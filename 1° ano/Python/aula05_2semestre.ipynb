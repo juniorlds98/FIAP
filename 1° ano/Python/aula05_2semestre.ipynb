{
 "cells": [
  {
   "cell_type": "code",
   "execution_count": 1,
   "metadata": {},
   "outputs": [
    {
     "name": "stdout",
     "output_type": "stream",
     "text": [
      "Hello World\n"
     ]
    }
   ],
   "source": [
    "n = \"Hello World\"\n",
    "print(n)"
   ]
  },
  {
   "cell_type": "code",
   "execution_count": 2,
   "metadata": {},
   "outputs": [
    {
     "name": "stdout",
     "output_type": "stream",
     "text": [
      "[[0, 0], [0, 0], [0, 0], [0, 0], [0, 0]]\n"
     ]
    }
   ],
   "source": [
    "elemento = 0\n",
    "matriz = [[elemento for l in range(5) if l % 2 != 0]for c in range(5)]\n",
    "print(matriz)"
   ]
  },
  {
   "cell_type": "code",
   "execution_count": 7,
   "metadata": {},
   "outputs": [
    {
     "name": "stdout",
     "output_type": "stream",
     "text": [
      "[[0, 0, 0, 0, 0], [0, 0, 0, 0, 0], [0, 0, 0, 0, 0]]\n"
     ]
    }
   ],
   "source": [
    "elemento = 0\n",
    "matriz = [[elemento for l in range(5)]for c in range(5) if c % 2 == 0]\n",
    "print(matriz)"
   ]
  },
  {
   "cell_type": "code",
   "execution_count": 23,
   "metadata": {},
   "outputs": [
    {
     "name": "stdout",
     "output_type": "stream",
     "text": [
      "1\n",
      "matriz[0][0]\n",
      "4\n",
      "matriz[1][1]\n",
      "9\n",
      "matriz[2][2]\n"
     ]
    }
   ],
   "source": [
    "\n",
    "matriz = [[c*l for l in range(1,4)]for c in range(1,4)]\n",
    "\n",
    "\n",
    "for i in range(len(matriz)):\n",
    "    print(matriz[i][i])\n",
    "\n",
    "    "
   ]
  },
  {
   "cell_type": "code",
   "execution_count": 25,
   "metadata": {},
   "outputs": [
    {
     "name": "stdout",
     "output_type": "stream",
     "text": [
      "1\n",
      "4\n",
      "9\n"
     ]
    }
   ],
   "source": [
    "matriz = [[c*l for l in range(1,4)]for c in range(1,4)]\n",
    "\n",
    "\n",
    "for i in range(len(matriz)):\n",
    "    print(matriz[i][i])"
   ]
  },
  {
   "cell_type": "code",
   "execution_count": 45,
   "metadata": {},
   "outputs": [
    {
     "name": "stdout",
     "output_type": "stream",
     "text": [
      "14\n"
     ]
    }
   ],
   "source": [
    "aux = 0\n",
    "matriz = [[c*l for l in range(1,4)]for c in range(1,4)]\n",
    "\n",
    "\n",
    "for i in range(len(matriz)):\n",
    "    aux += matriz[i][i]\n",
    "print(aux)\n"
   ]
  },
  {
   "cell_type": "code",
   "execution_count": 77,
   "metadata": {},
   "outputs": [
    {
     "name": "stdout",
     "output_type": "stream",
     "text": [
      "[1, 2, 3, 2, 4, 6]\n",
      "18\n"
     ]
    }
   ],
   "source": [
    "aux = []\n",
    "matriz = [[c*l for l in range(1,4)]for c in range(1,3)]\n",
    "\n",
    "for i in range(len(matriz)):\n",
    "    aux += matriz[i]\n",
    "aux2 = 0\n",
    "for i in aux:\n",
    "    aux2 += i\n",
    "print(aux2)"
   ]
  },
  {
   "cell_type": "code",
   "execution_count": null,
   "metadata": {},
   "outputs": [],
   "source": [
    "def produto_interno(v1,v2):\n",
    "    return sum(a*b for a,b in zip(v1, v2))\n",
    "\n",
    "\n",
    "v1 = [1, 2, 3]\n",
    "v2 = [4, 5, 6]\n",
    "\n",
    "resultado = produto_interno(v1,v2)\n",
    "print(resultado)"
   ]
  },
  {
   "cell_type": "markdown",
   "metadata": {},
   "source": [
    "Foca nesse exercício para a CP"
   ]
  },
  {
   "cell_type": "code",
   "execution_count": null,
   "metadata": {},
   "outputs": [],
   "source": [
    "#l = int(input(\"Digite a quantidade de linhas da matriz: \"))\n",
    "#c = int(input(\"Digite a quantidade de colunas da matriz: \"))\n",
    "def cria_matriz(l,c):\n",
    "    m = []\n",
    "    for j in range(l):\n",
    "        linha = []\n",
    "        for i in range(c):\n",
    "            linha.append(input(f\"digite o elemento m[{j}][{i}]: \"))\n",
    "        m.append(linha)\n",
    "    return m\n",
    "\n",
    "\n",
    "def printa_matriz(m):\n",
    "    for i in m:\n",
    "        for j in i:\n",
    "            print(j, end=\" \")\n",
    "        print()\n",
    "\n",
    "#ou\n",
    "\n",
    "def printa_matriz_v2(m):\n",
    "    for i in range(len(m)):\n",
    "        for j in range(len(m[0])):\n",
    "            print(m[i][j])\n"
   ]
  },
  {
   "cell_type": "markdown",
   "metadata": {},
   "source": [
    "Dicionário"
   ]
  },
  {
   "cell_type": "markdown",
   "metadata": {},
   "source": [
    "Dicionários são estruturas que armazenam dados. Não são sequência como string, lista e tupla.\n",
    "\n",
    "É mapeado por pares, tudo que tem uma chave tem um valor\n",
    "\n",
    "Chave1 -> Conteúdo1\n",
    "Chave2 -> Conteúdo2\n",
    "Chave3 -> Conteúdo3\n",
    "\n",
    "Chave quanto o valor pode ser variado, pode ser string, inteiro, booleano, tupla ou float\n",
    "\n",
    "A ordem que você coloca o dicionário é normalmente a ordem que fica, mas não existe index para acessar os elementos, eles são acessados pela chave"
   ]
  },
  {
   "cell_type": "code",
   "execution_count": 97,
   "metadata": {},
   "outputs": [
    {
     "name": "stdout",
     "output_type": "stream",
     "text": [
      "{'Lat': 23.45, 'Long': 1.34}\n"
     ]
    }
   ],
   "source": [
    "dicionario = {\n",
    "    \"Lat\": 23.45,\n",
    "    \"Long\": 1.34\n",
    "}\n",
    "print(dicionario)"
   ]
  },
  {
   "cell_type": "markdown",
   "metadata": {},
   "source": [
    "Para acessar a chave você precisa passar a chave dentro das chaves, mantém a escrita\n",
    "\n",
    "Para você perguntar ou validar se existe a chave no dicionario"
   ]
  },
  {
   "cell_type": "code",
   "execution_count": 100,
   "metadata": {},
   "outputs": [
    {
     "name": "stdout",
     "output_type": "stream",
     "text": [
      "23.45\n"
     ]
    }
   ],
   "source": [
    "dicionario = {\n",
    "    \"Lat\": 23.45,\n",
    "    \"Long\": 1.34\n",
    "}\n",
    "print(dicionario[\"Lat\"])"
   ]
  },
  {
   "cell_type": "markdown",
   "metadata": {},
   "source": [
    "Para você perguntar ou validar se existe a chave no dicionario"
   ]
  },
  {
   "cell_type": "code",
   "execution_count": 101,
   "metadata": {},
   "outputs": [
    {
     "name": "stdout",
     "output_type": "stream",
     "text": [
      "[True]\n"
     ]
    }
   ],
   "source": [
    "dicionario = {\n",
    "    \"Lat\": 23.45,\n",
    "    \"Long\": 1.34\n",
    "}\n",
    "print([\"Lat\" in dicionario])"
   ]
  },
  {
   "cell_type": "markdown",
   "metadata": {},
   "source": [
    "Tentar pegar o valor sem erro\n",
    "Len também dá o tamanho normalmente\n",
    "E para adicionar é simples, você chama o dicionario e coloca a nova chave e o valor\n",
    "para retirar você usa o .pop"
   ]
  },
  {
   "cell_type": "code",
   "execution_count": 102,
   "metadata": {},
   "outputs": [
    {
     "name": "stdout",
     "output_type": "stream",
     "text": [
      "None\n"
     ]
    }
   ],
   "source": [
    "dicionario = {\n",
    "    \"Lat\": 23.45,\n",
    "    \"Long\": 1.34\n",
    "}\n",
    "print(dicionario.get(\"Latitude\"))"
   ]
  },
  {
   "cell_type": "code",
   "execution_count": 103,
   "metadata": {},
   "outputs": [
    {
     "name": "stdout",
     "output_type": "stream",
     "text": [
      "{'Lat': 124.456, 'Long': 1.34, 'Nova_Chave': 'Novo_valor'}\n"
     ]
    }
   ],
   "source": [
    "dicionario = {\n",
    "    \"Lat\": 23.45,\n",
    "    \"Long\": 1.34\n",
    "}\n",
    "\n",
    "dicionario[\"Nova_Chave\"] = \"Novo_valor\"\n",
    "dicionario[\"Lat\"] = 124.456\n",
    "print(dicionario)"
   ]
  },
  {
   "cell_type": "markdown",
   "metadata": {},
   "source": [
    "Para você atualizar um dicionário com o conteúdo de outro dicionário você pode usar o dic_dicionario.update(dic_outrodicionario)"
   ]
  },
  {
   "cell_type": "code",
   "execution_count": 106,
   "metadata": {},
   "outputs": [
    {
     "name": "stdout",
     "output_type": "stream",
     "text": [
      "{'Lat': 23.45, 'Long': 1.34, 'Lati': 45.45, 'Longi': 11.34}\n"
     ]
    }
   ],
   "source": [
    "dicionarioA = {\n",
    "    \"Lat\": 23.45,\n",
    "    \"Long\": 1.34\n",
    "}\n",
    "\n",
    "dicionarioB = {\n",
    "    \"Lati\": 45.45,\n",
    "    \"Longi\": 11.34\n",
    "}\n",
    "\n",
    "dicionarioA.update(dicionarioB)\n",
    "\n",
    "print(dicionarioA)"
   ]
  },
  {
   "cell_type": "markdown",
   "metadata": {},
   "source": [
    "Puxar os valores e as chaves e items"
   ]
  },
  {
   "cell_type": "code",
   "execution_count": 109,
   "metadata": {},
   "outputs": [
    {
     "name": "stdout",
     "output_type": "stream",
     "text": [
      "dict_keys(['Lat', 'Long'])\n",
      "dict_values([23.45, 1.34])\n",
      "dict_items([('Lat', 23.45), ('Long', 1.34)])\n"
     ]
    }
   ],
   "source": [
    "dicionarioA = {\n",
    "    \"Lat\": 23.45,\n",
    "    \"Long\": 1.34\n",
    "}\n",
    "\n",
    "print(dicionarioA.keys())\n",
    "\n",
    "#Ou\n",
    "\n",
    "dicionarioA = {\n",
    "    \"Lat\": 23.45,\n",
    "    \"Long\": 1.34\n",
    "}\n",
    "\n",
    "print(dicionarioA.values())\n",
    "\n",
    "#ou\n",
    "\n",
    "dicionarioA = {\n",
    "    \"Lat\": 23.45,\n",
    "    \"Long\": 1.34\n",
    "}\n",
    "\n",
    "print(dicionarioA.items())"
   ]
  },
  {
   "cell_type": "code",
   "execution_count": 123,
   "metadata": {},
   "outputs": [
    {
     "name": "stdout",
     "output_type": "stream",
     "text": [
      "Vermelho\n",
      "{'Maça': 'Vermelho', 'Banana': 'Amarelo', 'Pera': 'Verde'}\n",
      "dict_keys(['Maça', 'Banana', 'Pera'])\n",
      "dict_values(['Vermelho', 'Amarelo', 'Verde'])\n",
      "A Banana esta na lista\n",
      "{'Maça': 'Vermelho', 'Banana': 'Amarelo', 'Pera': 'Verde', 'Mexirica': 'Laranja', 'Laranja': 'Laranja', 'Tomate': 'Vermelho'}\n",
      "6\n"
     ]
    }
   ],
   "source": [
    "frutas = {\n",
    "    \"Maça\": \"Vermelho\",\n",
    "    \"Banana\": \"Amarelo\",\n",
    "    \"Pera\": \"Verde\"\n",
    "}\n",
    "\n",
    "frutas2 = {\n",
    "    \"Mexirica\": \"Laranja\",\n",
    "    \"Laranja\":\"Laranja\",\n",
    "    \"Tomate\": \"Vermelho\"\n",
    "}\n",
    "\n",
    "frutas[\"Uva\"] = \"Roxa\"\n",
    "frutas[\"Uva\"] = \"Verde\"\n",
    "frutas.pop(\"Uva\")\n",
    "\n",
    "\n",
    "print(frutas[\"Maça\"])\n",
    "print(frutas)\n",
    "print(frutas.keys())\n",
    "print(frutas.values())\n",
    "if \"Banana\" in frutas:\n",
    "    print(\"A Banana esta na lista\")\n",
    "else:\n",
    "    print(\"Não possui Banana na lista\") \n",
    "\n",
    "frutas.update(frutas2)\n",
    "print(frutas)\n",
    "print(len(frutas))"
   ]
  },
  {
   "cell_type": "code",
   "execution_count": 125,
   "metadata": {},
   "outputs": [
    {
     "name": "stdout",
     "output_type": "stream",
     "text": [
      "Biscoito\n"
     ]
    }
   ],
   "source": [
    "listaDeCompras = [\"Biscoito\", \"Chocolate\", \"Farinha\"]\n",
    "\n",
    "supermercado = {\n",
    "    \"Amaciante\": 4.99,\n",
    "    \"Arroz\": 10.90,\n",
    "    \"Biscoito\": 1.69,\n",
    "    \"Café\": 6.98,\n",
    "    \"Chocolate\": 3.79,\n",
    "    \"Farinha\": 2.99\n",
    "}\n",
    "\n",
    "print(listaDeCompras[0])"
   ]
  }
 ],
 "metadata": {
  "kernelspec": {
   "display_name": "Python 3",
   "language": "python",
   "name": "python3"
  },
  "language_info": {
   "codemirror_mode": {
    "name": "ipython",
    "version": 3
   },
   "file_extension": ".py",
   "mimetype": "text/x-python",
   "name": "python",
   "nbconvert_exporter": "python",
   "pygments_lexer": "ipython3",
   "version": "3.12.3"
  }
 },
 "nbformat": 4,
 "nbformat_minor": 2
}
