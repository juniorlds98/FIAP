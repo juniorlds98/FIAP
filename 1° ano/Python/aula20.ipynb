{
 "cells": [
  {
   "cell_type": "markdown",
   "metadata": {},
   "source": [
    "Correção exercícios CP"
   ]
  },
  {
   "cell_type": "markdown",
   "metadata": {},
   "source": [
    "Exercício 01"
   ]
  },
  {
   "cell_type": "code",
   "execution_count": null,
   "metadata": {},
   "outputs": [],
   "source": [
    "def listaDeCompras(lista, supermercado):\n",
    "    total = 0\n",
    "    encontrador = []\n",
    "    naoEncontrados = []\n",
    "\n",
    "    for item in lista:\n",
    "        if item in supermercado:\n",
    "            total += supermercado[item]\n",
    "            encontrado.append(item)\n",
    "        else:\n",
    "            naoEncontrados.append(item)\n",
    "    return(total, encontrados, naoEncontrados)\n",
    "\n"
   ]
  },
  {
   "cell_type": "markdown",
   "metadata": {},
   "source": [
    "Exercício 02"
   ]
  },
  {
   "cell_type": "code",
   "execution_count": null,
   "metadata": {},
   "outputs": [],
   "source": [
    "def ordenarEquipes(equipes):\n",
    "    tamanho = len(equipes)\n",
    "    for i in range(tamanho):\n",
    "        menorTamanho = i\n",
    "        for j in range(i + 1, tamanho):\n",
    "            if equipes[j][1] < equipes[menorTamanho][1]:\n",
    "                menorTamanho = j\n",
    "        equipes[i], equipes[menorTamanho] = equipes[menorTamanho], equipes[i]\n",
    "    return equipes"
   ]
  },
  {
   "cell_type": "markdown",
   "metadata": {},
   "source": [
    "Exercício 03"
   ]
  },
  {
   "cell_type": "code",
   "execution_count": null,
   "metadata": {},
   "outputs": [],
   "source": [
    "def busca(lista, chave):\n",
    "    tamanho = len(lista)\n",
    "    for i in range(tamanho)\n",
    "        if lista[i] == chave:\n",
    "            return i\n",
    "    return -1"
   ]
  },
  {
   "cell_type": "markdown",
   "metadata": {},
   "source": [
    "Exercício 04"
   ]
  },
  {
   "cell_type": "code",
   "execution_count": null,
   "metadata": {},
   "outputs": [],
   "source": [
    "def atualizarEstoque(estoqueAtual, novosProdutos):\n",
    "    for produtos, quantidade in novosProdutos.items():\n",
    "        if produtos in estoqueAtual:\n",
    "            estoqueAtual[produtos] += quantidade\n",
    "        else:\n",
    "            estoqueAtual[produtos] = quantidade\n",
    "    return estoqueAtual"
   ]
  },
  {
   "cell_type": "markdown",
   "metadata": {},
   "source": [
    "Exercício 05"
   ]
  },
  {
   "cell_type": "code",
   "execution_count": null,
   "metadata": {},
   "outputs": [],
   "source": [
    "pais = \"Brasil\"\n",
    "\n",
    "def medalhas(pais)\n",
    "    for i in a[\"data\"]\n",
    "        if i[\"name\"] == pais:\n",
    "            return(i[\"name\"], i[\"total_medals\"], i[\"gold_medals\"], i[\"silver_medals\"], i[\"bronze_medals\"])\n",
    "\n",
    "print(medalhas(pais))"
   ]
  },
  {
   "cell_type": "markdown",
   "metadata": {},
   "source": [
    "------------------------------------------------------------------------------------------------------------"
   ]
  },
  {
   "cell_type": "markdown",
   "metadata": {},
   "source": [
    "Busca Binária"
   ]
  },
  {
   "cell_type": "markdown",
   "metadata": {},
   "source": [
    "É necessário que a lista precisa estar ordenada, então você irá ordenar e após iso a Busca Binária irá dividir ela sempre na metade até achar o número exato.\n",
    "\n",
    "Ele usa os index, ele pega o index inicial, o index final e divide pela metade e ai ele olha o último número e compara, se for maior ele usa a segunda metade e faz a comparação até achar\n",
    "\n",
    "\n",
    "\n"
   ]
  },
  {
   "cell_type": "code",
   "execution_count": 12,
   "metadata": {},
   "outputs": [
    {
     "name": "stdout",
     "output_type": "stream",
     "text": [
      "O item 12 não foi encontrado na lista.\n"
     ]
    }
   ],
   "source": [
    "def busca_binaria(lista, item):\n",
    "    comeco = 0\n",
    "    ultimo = len(lista) - 1\n",
    "\n",
    "\n",
    "    while comeco <= ultimo:\n",
    "        meio = (comeco + ultimo)//2\n",
    "        palpite = lista[meio]\n",
    "\n",
    "        if palpite == item:\n",
    "            return meio\n",
    "        elif palpite < item:\n",
    "            comeco = meio + 1\n",
    "        else:\n",
    "            ultimo = meio - 1\n",
    "    return -1\n",
    "\n",
    "\n",
    "lista = [1, 4, 7, 9, 12, 51, 99]\n",
    "item = 53\n",
    "\n",
    "resultado = busca_binaria(lista, item)\n",
    "\n",
    "\n",
    "if resultado != -1:\n",
    "    print(f'O item {item} foi encontrado no índice {resultado}.')\n",
    "else:\n",
    "    print(f'O item {item} não foi encontrado na lista.')\n",
    "\n"
   ]
  },
  {
   "cell_type": "markdown",
   "metadata": {},
   "source": [
    "Com palavras funciona normalmente pois ele busca o Index"
   ]
  },
  {
   "cell_type": "code",
   "execution_count": 13,
   "metadata": {},
   "outputs": [
    {
     "name": "stdout",
     "output_type": "stream",
     "text": [
      "O item Xuxa foi encontrado no índice 3.\n"
     ]
    }
   ],
   "source": [
    "def busca_binaria(lista, item):\n",
    "    comeco = 0\n",
    "    ultimo = len(lista) - 1\n",
    "\n",
    "\n",
    "    while comeco <= ultimo:\n",
    "        meio = (comeco + ultimo)//2\n",
    "        palpite = lista[meio]\n",
    "\n",
    "        if palpite == item:\n",
    "            return meio\n",
    "        elif palpite < item:\n",
    "            comeco = meio + 1\n",
    "        else:\n",
    "            ultimo = meio - 1\n",
    "    return -1\n",
    "\n",
    "\n",
    "lista = [\"Ana\", \"Helder\", \"Maria\", \"Xuxa\"]\n",
    "item = \"Xuxa\"\n",
    "\n",
    "resultado = busca_binaria(lista, item)\n",
    "\n",
    "\n",
    "if resultado != -1:\n",
    "    print(f'O item {item} foi encontrado no índice {resultado}.')\n",
    "else:\n",
    "    print(f'O item {item} não foi encontrado na lista.')"
   ]
  },
  {
   "cell_type": "markdown",
   "metadata": {},
   "source": [
    "------------------------------------------------------------------------------------------------------------"
   ]
  },
  {
   "cell_type": "markdown",
   "metadata": {},
   "source": [
    "Função Recursiva"
   ]
  },
  {
   "cell_type": "markdown",
   "metadata": {},
   "source": [
    "Descreve um processo de repetição, basicamente é quando algo gera algo ao infinito\n",
    "As funções recursivam chama ela mesma novamente"
   ]
  },
  {
   "cell_type": "code",
   "execution_count": 17,
   "metadata": {},
   "outputs": [
    {
     "name": "stdout",
     "output_type": "stream",
     "text": [
      "25\n"
     ]
    }
   ],
   "source": [
    "def somaLista(lista):\n",
    "    if not lista:\n",
    "        return 0\n",
    "    return lista[0] + somaLista(lista[1:])\n",
    "\n",
    "numeros = [1,3,5,7,9]\n",
    "resultado = somaLista(numeros)\n",
    "print(resultado)\n"
   ]
  },
  {
   "cell_type": "code",
   "execution_count": 18,
   "metadata": {},
   "outputs": [
    {
     "name": "stdout",
     "output_type": "stream",
     "text": [
      "25\n"
     ]
    }
   ],
   "source": [
    "def soma(lista):\n",
    "    if len(lista) == 1:\n",
    "        return lista[0]\n",
    "    else:\n",
    "        return lista[0] + soma(lista[1:])\n",
    "\n",
    "lista = [1,3,5,7,9]\n",
    "resultado = soma(lista)\n",
    "print(resultado)\n",
    "\n"
   ]
  },
  {
   "cell_type": "code",
   "execution_count": 27,
   "metadata": {},
   "outputs": [
    {
     "name": "stdout",
     "output_type": "stream",
     "text": [
      "1\n"
     ]
    }
   ],
   "source": [
    "def fatorial(n):\n",
    "    total = 1\n",
    "    k = 1\n",
    "\n",
    "    while  k <= n:\n",
    "        total = total * k\n",
    "        k = k + 1\n",
    "    return total\n",
    "\n",
    "n = 0\n",
    "print(fatorial(n))\n"
   ]
  },
  {
   "cell_type": "markdown",
   "metadata": {},
   "source": [
    "Como o professor fez:"
   ]
  },
  {
   "cell_type": "code",
   "execution_count": 26,
   "metadata": {},
   "outputs": [
    {
     "name": "stdout",
     "output_type": "stream",
     "text": [
      "1\n"
     ]
    }
   ],
   "source": [
    "def fatorial(n):\n",
    "    if n == 0:\n",
    "        return 1\n",
    "    return n*fatorial(n-1)\n",
    "print(fatorial(0))\n"
   ]
  },
  {
   "cell_type": "markdown",
   "metadata": {},
   "source": [
    "Gerenciamento de memoria"
   ]
  },
  {
   "cell_type": "markdown",
   "metadata": {},
   "source": [
    "As chamadas recursivas usam chamadas em pilhas e o último valor é o que vai representar todas as funções"
   ]
  },
  {
   "cell_type": "code",
   "execution_count": 28,
   "metadata": {},
   "outputs": [
    {
     "data": {
      "text/plain": [
       "0"
      ]
     },
     "execution_count": 28,
     "metadata": {},
     "output_type": "execute_result"
    }
   ],
   "source": [
    "def f1(a,b):\n",
    "    c = a-b\n",
    "    return(a+b+c)\n",
    "def f2(a,b):\n",
    "    c = f1(b,a)\n",
    "    return(b+c-a)\n",
    "def main():\n",
    "    x = f2(2,3)\n",
    "    return 0\n",
    "\n",
    "main()"
   ]
  },
  {
   "cell_type": "code",
   "execution_count": 30,
   "metadata": {},
   "outputs": [
    {
     "name": "stdout",
     "output_type": "stream",
     "text": [
      "24\n"
     ]
    }
   ],
   "source": [
    "def fatorial(n):\n",
    "    if n == 0:\n",
    "        return 1\n",
    "    else:\n",
    "        aux = fatorial(n-1)\n",
    "        return n * aux\n",
    "\n",
    "n = 4\n",
    "\n",
    "print(fatorial(n))"
   ]
  },
  {
   "cell_type": "markdown",
   "metadata": {},
   "source": [
    "Fibonacci"
   ]
  },
  {
   "cell_type": "code",
   "execution_count": 34,
   "metadata": {},
   "outputs": [
    {
     "name": "stdout",
     "output_type": "stream",
     "text": [
      "[4, 5, 9, 14, 23, 37, 60, 97, 157, 254]\n"
     ]
    }
   ],
   "source": [
    "def fibonacci(fibo_1, fibo_2, n):\n",
    "    if n == 0:\n",
    "        return []\n",
    "    else:\n",
    "        fibo_3 = fibo_1 + fibo_2\n",
    "        return [fibo_1] + fibonacci(fibo_2, fibo_3, n-1)\n",
    "fibo_1 = 4\n",
    "fibo_2 = 5\n",
    "n = 10\n",
    "\n",
    "print(fibonacci(fibo_1, fibo_2, n))\n"
   ]
  },
  {
   "cell_type": "markdown",
   "metadata": {},
   "source": [
    "Professor fez:"
   ]
  },
  {
   "cell_type": "code",
   "execution_count": 36,
   "metadata": {},
   "outputs": [
    {
     "name": "stdout",
     "output_type": "stream",
     "text": [
      "55\n"
     ]
    }
   ],
   "source": [
    "def fibo(n):\n",
    "    if n == 0:\n",
    "        return 0\n",
    "    elif n == 1:\n",
    "        return 1\n",
    "    return fibo(n-1) + fibo(n-2)\n",
    "print(fibo(10))"
   ]
  },
  {
   "cell_type": "markdown",
   "metadata": {},
   "source": [
    "É uma tecnica para descrever soluções para casos basicaos assumindo a existencia de casos simples e assim resolvendo casos mais complexos."
   ]
  },
  {
   "cell_type": "code",
   "execution_count": 37,
   "metadata": {},
   "outputs": [
    {
     "name": "stdout",
     "output_type": "stream",
     "text": [
      "8\n"
     ]
    }
   ],
   "source": [
    "def potencia(base, exponente):\n",
    "    if exponente == 0:\n",
    "        return 1\n",
    "    else:\n",
    "        return base * potencia(base, exponente - 1)\n",
    "\n",
    "base = 2\n",
    "exponente = 3\n",
    "print(potencia(base, exponente))  \n",
    "\n"
   ]
  },
  {
   "cell_type": "code",
   "execution_count": 40,
   "metadata": {},
   "outputs": [
    {
     "name": "stdout",
     "output_type": "stream",
     "text": [
      "0\n"
     ]
    }
   ],
   "source": [
    "def combinacoes(n, m):\n",
    "    if n == 0:\n",
    "        return 1\n",
    "    elif m == n:\n",
    "        return 1\n",
    "    elif m < n:\n",
    "        return 0\n",
    "    else:\n",
    "        return c(m - 1, n) + C(m-1, n-1)\n",
    "\n",
    "n = 3\n",
    "m = 4\n",
    "\n",
    "print(combinacoes(m, n))\n"
   ]
  },
  {
   "cell_type": "code",
   "execution_count": 46,
   "metadata": {},
   "outputs": [
    {
     "name": "stdout",
     "output_type": "stream",
     "text": [
      "20.063392857142855\n"
     ]
    }
   ],
   "source": [
    "def fatorial(n):\n",
    "    if n == 0:\n",
    "        return 1\n",
    "    else:\n",
    "        aux = fatorial(n-1)\n",
    "        return n * aux\n",
    "\n",
    "def potencia(base, exponente):\n",
    "    if exponente == 0:\n",
    "        return 1\n",
    "    else:\n",
    "        return base * potencia(base, exponente - 1)\n",
    "\n",
    "def serieExponencial(x, termos):\n",
    "    soma = 0\n",
    "    for n in range(termos):\n",
    "        soma += potencia(x, n) / fatorial(n)\n",
    "    return soma\n",
    "\n",
    "x = 3 \n",
    "termos = 10 \n",
    "\n",
    "resultado = serieExponencial(x, termos)\n",
    "print(resultado)\n"
   ]
  }
 ],
 "metadata": {
  "kernelspec": {
   "display_name": "Python 3",
   "language": "python",
   "name": "python3"
  },
  "language_info": {
   "codemirror_mode": {
    "name": "ipython",
    "version": 3
   },
   "file_extension": ".py",
   "mimetype": "text/x-python",
   "name": "python",
   "nbconvert_exporter": "python",
   "pygments_lexer": "ipython3",
   "version": "3.12.3"
  }
 },
 "nbformat": 4,
 "nbformat_minor": 2
}
