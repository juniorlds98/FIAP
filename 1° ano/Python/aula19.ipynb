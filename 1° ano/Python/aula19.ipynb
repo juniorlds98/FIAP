{
 "cells": [
  {
   "cell_type": "code",
   "execution_count": null,
   "metadata": {},
   "outputs": [],
   "source": [
    "def bubbleSort(lista):\n",
    "\n",
    "    tamanho = len(lista)\n",
    "    for posicao in range(tamanho -1):\n",
    "        for comparar in range(tamanho -1):\n",
    "            if lista[comparar] > lista[comparar + 1]:\n",
    "                lista[comparar], lista[comparar + 1] = lista[comparar + 1], lista[comparar]\n",
    "            print(lista)\n",
    "lista = [1,5,4,7,9]\n",
    "bubbleSort(lista)"
   ]
  },
  {
   "cell_type": "markdown",
   "metadata": {},
   "source": [
    "Selection sort procura os menores e vai ordenando"
   ]
  },
  {
   "cell_type": "code",
   "execution_count": 32,
   "metadata": {},
   "outputs": [
    {
     "data": {
      "text/plain": [
       "[4, 5, 6, 7, 9]"
      ]
     },
     "execution_count": 32,
     "metadata": {},
     "output_type": "execute_result"
    }
   ],
   "source": [
    "def selectionSort(lista):\n",
    "\n",
    "    tamanho = len(lista)\n",
    "    for posicao in range(tamanho):\n",
    "        minIndex = posicao\n",
    "        #print(f\"Posição: {posicao}\")\n",
    "        for comparar in range(posicao + 1, tamanho):\n",
    "            #print(f\"Comparar: {comparar}\")\n",
    "            if lista[comparar] < lista[minIndex]:\n",
    "                minIndex = comparar\n",
    "                #print(f\"Comparar: {comparar}\")\n",
    "        lista[posicao], lista[minIndex] = lista[minIndex], lista[posicao]\n",
    "    return lista\n",
    "    \n",
    "            \n",
    "lista = [9,6,5,4,7]\n",
    "selectionSort(lista)"
   ]
  },
  {
   "cell_type": "markdown",
   "metadata": {},
   "source": [
    "Insertion Sort a lista já está ordenada e você coloca um elemento no lugar correto"
   ]
  },
  {
   "cell_type": "code",
   "execution_count": 45,
   "metadata": {},
   "outputs": [
    {
     "name": "stdout",
     "output_type": "stream",
     "text": [
      "Lista: [9, 9, 5, 97, 12, 4, 7, 55]\n",
      "Lista: [6, 9, 9, 97, 12, 4, 7, 55]\n",
      "Lista: [6, 6, 9, 97, 12, 4, 7, 55]\n",
      "Lista: [5, 6, 9, 97, 97, 4, 7, 55]\n",
      "Lista: [5, 6, 9, 12, 97, 97, 7, 55]\n",
      "Lista: [5, 6, 9, 12, 12, 97, 7, 55]\n",
      "Lista: [5, 6, 9, 9, 12, 97, 7, 55]\n",
      "Lista: [5, 6, 6, 9, 12, 97, 7, 55]\n",
      "Lista: [5, 5, 6, 9, 12, 97, 7, 55]\n",
      "Lista: [4, 5, 6, 9, 12, 97, 97, 55]\n",
      "Lista: [4, 5, 6, 9, 12, 12, 97, 55]\n",
      "Lista: [4, 5, 6, 9, 9, 12, 97, 55]\n",
      "Lista: [4, 5, 6, 7, 9, 12, 97, 97]\n",
      "[4, 5, 6, 7, 9, 12, 55, 97]\n"
     ]
    }
   ],
   "source": [
    "def insertionSort(lista):\n",
    "    tamanho = len(lista)\n",
    "    for posicao in range(1, tamanho):\n",
    "        chave = lista[posicao]\n",
    "        #print(f\"Chave: {chave}\")\n",
    "        #print(f\"Posição: {posicao}\")\n",
    "        while posicao > 0 and lista[posicao - 1] > chave:\n",
    "            lista[posicao] = lista[posicao - 1]\n",
    "            #print(f\"Lista: {lista}\")\n",
    "            posicao -= 1\n",
    "        lista [posicao] = chave\n",
    "\n",
    "\n",
    "lista = [9,6,5,97,12,4,7,55]\n",
    "insertionSort(lista)\n",
    "print(lista)"
   ]
  },
  {
   "cell_type": "code",
   "execution_count": 52,
   "metadata": {},
   "outputs": [
    {
     "name": "stdout",
     "output_type": "stream",
     "text": [
      "Index: 2\n",
      "Valor: 50\n"
     ]
    }
   ],
   "source": [
    "lista = [4, 3, 50, 6, 8, 12]\n",
    "\n",
    "for i in range(len(lista)):\n",
    "    if lista[i] == 50:\n",
    "        print(f\"Index: {i}\")\n",
    "        print(f\"Valor: {lista[i]}\")"
   ]
  }
 ],
 "metadata": {
  "kernelspec": {
   "display_name": "Python 3",
   "language": "python",
   "name": "python3"
  },
  "language_info": {
   "codemirror_mode": {
    "name": "ipython",
    "version": 3
   },
   "file_extension": ".py",
   "mimetype": "text/x-python",
   "name": "python",
   "nbconvert_exporter": "python",
   "pygments_lexer": "ipython3",
   "version": "3.12.3"
  }
 },
 "nbformat": 4,
 "nbformat_minor": 2
}
