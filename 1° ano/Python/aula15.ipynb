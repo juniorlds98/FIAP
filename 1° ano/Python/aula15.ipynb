{
 "cells": [
  {
   "cell_type": "code",
   "execution_count": 2,
   "metadata": {},
   "outputs": [
    {
     "name": "stdout",
     "output_type": "stream",
     "text": [
      "Hello World\n"
     ]
    }
   ],
   "source": [
    "n = \"Hello World\"\n",
    "print(n)"
   ]
  },
  {
   "cell_type": "code",
   "execution_count": null,
   "metadata": {},
   "outputs": [],
   "source": [
    "lista = []\n",
    "linha = int(input(\"Qual a quantidade de linhas que você quer: \"))\n",
    "\n"
   ]
  },
  {
   "cell_type": "code",
   "execution_count": 46,
   "metadata": {},
   "outputs": [
    {
     "name": "stdout",
     "output_type": "stream",
     "text": [
      "[[1, 1], [1, 1], [1, 1], [1, 1], [1, 1]]\n"
     ]
    }
   ],
   "source": [
    "l = int(input(\"Qual a quantidade de linhas da matriz: \"))\n",
    "c = int(input(\"Qual a quantidade de colunas da matriz: \"))\n",
    "\n",
    "matriz = []\n",
    "\n",
    "for j in range(l):\n",
    "    linha = []\n",
    "    for i in range(c):\n",
    "        linha.append(int(input(\"Digite um valor: \")))\n",
    "    matriz.append(linha)\n",
    "\n",
    "print(matriz)"
   ]
  },
  {
   "cell_type": "code",
   "execution_count": 47,
   "metadata": {},
   "outputs": [
    {
     "name": "stdout",
     "output_type": "stream",
     "text": [
      "1 1 \n",
      "1 1 \n",
      "1 1 \n",
      "1 1 \n",
      "1 1 \n"
     ]
    }
   ],
   "source": [
    "for i in matriz:\n",
    "    for j in linha:\n",
    "        print(j, end = \" \")\n",
    "    print()"
   ]
  },
  {
   "cell_type": "code",
   "execution_count": 60,
   "metadata": {},
   "outputs": [
    {
     "name": "stdout",
     "output_type": "stream",
     "text": [
      " 1  1 \n",
      " 1  1 \n",
      " 1  1 \n",
      " 1  1 \n",
      " 1  1 \n"
     ]
    }
   ],
   "source": [
    "for i in range(len(matriz)):\n",
    "    for j in range(len(matriz[0])):\n",
    "        print(f\"{matriz[i][j]: 2d}\", end = \" \")\n",
    "    print()"
   ]
  },
  {
   "cell_type": "markdown",
   "metadata": {},
   "source": [
    "Ele altera automaticamente, pois compartilham o mesmo espaço na memória, para copiar você pode usar: b = a[:]"
   ]
  },
  {
   "cell_type": "code",
   "execution_count": 61,
   "metadata": {},
   "outputs": [
    {
     "name": "stdout",
     "output_type": "stream",
     "text": [
      "[2, 7, 3]\n",
      "[2, 7, 3]\n"
     ]
    }
   ],
   "source": [
    "a = [1, 7, 3]\n",
    "b = a\n",
    "a [0] = 2\n",
    "print(a)\n",
    "print(b)"
   ]
  },
  {
   "cell_type": "markdown",
   "metadata": {},
   "source": [
    "Como fazer uma copia de uma matriz ou lista"
   ]
  },
  {
   "cell_type": "code",
   "execution_count": 80,
   "metadata": {},
   "outputs": [
    {
     "name": "stdout",
     "output_type": "stream",
     "text": [
      "[0, [4, 5, 6], [7, 8, 9]]\n",
      "[1, 2, 3]\n"
     ]
    }
   ],
   "source": [
    "matriz = [\n",
    "    [1, 2, 3],\n",
    "    [4, 5, 6],\n",
    "    [7, 8, 9]\n",
    "    ]\n",
    "matriz2 = matriz[0]\n",
    "matriz[0] = 0\n",
    "\n",
    "print(matriz)\n",
    "print(matriz2)\n"
   ]
  },
  {
   "cell_type": "code",
   "execution_count": 82,
   "metadata": {},
   "outputs": [
    {
     "name": "stdout",
     "output_type": "stream",
     "text": [
      "[[2, 2, 2], [2, 2, 2], [2, 2, 2]] \n"
     ]
    }
   ],
   "source": [
    "l = int(input(\"Qual a quantidade de linhas da matriz: \"))\n",
    "c = int(input(\"Qual a quantidade de colunas da matriz: \"))\n",
    "Elemento = 2\n",
    "\n",
    "matriz = [[Elemento for _ in range (c)] for _ in range(l)]\n",
    "\n",
    "print(matriz, end = \" \")\n",
    "print()\n"
   ]
  },
  {
   "cell_type": "code",
   "execution_count": 88,
   "metadata": {},
   "outputs": [
    {
     "name": "stdout",
     "output_type": "stream",
     "text": [
      "[[0, 0, 0, 0, 0], [0, 0, 0, 0, 0], [0, 0, 0, 0, 0], [0, 0, 0, 0, 0], [0, 0, 0, 0, 0]]\n"
     ]
    }
   ],
   "source": [
    "elemento = 0\n",
    "matriz = [[elemento for _ in range(5)]for _ in range(5)]\n",
    "print(matriz)"
   ]
  },
  {
   "cell_type": "code",
   "execution_count": 93,
   "metadata": {},
   "outputs": [
    {
     "name": "stdout",
     "output_type": "stream",
     "text": [
      "[[0, 0, 0, 0, 0], [0, 0, 0, 0, 0]]\n"
     ]
    }
   ],
   "source": [
    "elemento = 0\n",
    "matriz = [[elemento for l in range(5)]for c in range(5) if c % 2 == 0]\n",
    "print(matriz)\n"
   ]
  },
  {
   "cell_type": "code",
   "execution_count": null,
   "metadata": {},
   "outputs": [],
   "source": [
    "elemento = 0\n",
    "matriz = [[elemento for l in range(5) if l % 2 != 0]for c in range(5)]\n",
    "print(matriz)"
   ]
  },
  {
   "cell_type": "code",
   "execution_count": null,
   "metadata": {},
   "outputs": [],
   "source": [
    "elemento = 0\n",
    "matriz = [[elemento for l in range(5)]for c in range(5)]\n",
    "print(matriz)"
   ]
  }
 ],
 "metadata": {
  "kernelspec": {
   "display_name": "Python 3",
   "language": "python",
   "name": "python3"
  },
  "language_info": {
   "codemirror_mode": {
    "name": "ipython",
    "version": 3
   },
   "file_extension": ".py",
   "mimetype": "text/x-python",
   "name": "python",
   "nbconvert_exporter": "python",
   "pygments_lexer": "ipython3",
   "version": "3.12.3"
  }
 },
 "nbformat": 4,
 "nbformat_minor": 2
}
