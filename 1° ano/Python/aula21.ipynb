{
 "cells": [
  {
   "cell_type": "markdown",
   "metadata": {},
   "source": [
    "Try Except  "
   ]
  },
  {
   "cell_type": "markdown",
   "metadata": {},
   "source": [
    "Sempre verifique o erro se fechou e abriu tudo, os dois pontos após metodos, se trocou a letra ou se tem erros de digitação, erros comuns são\n",
    "- Identation error\n",
    "- Key error\n",
    "- Traceback\n",
    "- Error value\n",
    "- TypeError\n",
    "- TabError"
   ]
  },
  {
   "cell_type": "code",
   "execution_count": null,
   "metadata": {},
   "outputs": [],
   "source": [
    "print(a)"
   ]
  },
  {
   "cell_type": "markdown",
   "metadata": {},
   "source": [
    "O Try usa o código que você acha que tem erro e no except o tratamento dele"
   ]
  },
  {
   "cell_type": "code",
   "execution_count": 13,
   "metadata": {},
   "outputs": [
    {
     "name": "stdout",
     "output_type": "stream",
     "text": [
      "Erro em alguma coisa\n"
     ]
    }
   ],
   "source": [
    "try:\n",
    "    a = [1,2,3]\n",
    "    b = a[4]\n",
    "except IndexError:\n",
    "    print(\"Erro em alguma coisa\")\n",
    "except NameError:\n",
    "    print(\"Erro no nome\")\n",
    "except Exception as ex:\n",
    "    print(ex)\n",
    "except SyntaxError:\n",
    "    print(\"Erro de sintaxe\")"
   ]
  },
  {
   "cell_type": "code",
   "execution_count": 14,
   "metadata": {},
   "outputs": [
    {
     "name": "stdout",
     "output_type": "stream",
     "text": [
      "Continuação do programa\n",
      "Executa de toda forma\n"
     ]
    }
   ],
   "source": [
    "try:\n",
    "    a = [1,2,3]\n",
    "except:\n",
    "    print(\"Erro geral\")\n",
    "else:\n",
    "    print(\"Continuação do programa\")\n",
    "finally:\n",
    "    print(\"Executa de toda forma\")"
   ]
  },
  {
   "cell_type": "markdown",
   "metadata": {},
   "source": [
    "Uma unica instrução try pode ter vários except, o try sempre protege o erro\n",
    "O finally serve para executar uma parte do código de qualquer forma após a sinalização do erro\n",
    "Tem o raise que serve para deixar uma exceção clara que o erro não foi tratado ainda, mas que precisa ser tratado"
   ]
  },
  {
   "cell_type": "code",
   "execution_count": 15,
   "metadata": {},
   "outputs": [
    {
     "name": "stdout",
     "output_type": "stream",
     "text": [
      "[1, 2, 3]\n",
      "Execução sem problemas\n",
      "Sempre executado\n"
     ]
    }
   ],
   "source": [
    "try:\n",
    "    print(a)\n",
    "except SyntaxError as e:\n",
    "    print(f\"Erro:{e}\")\n",
    "else:\n",
    "    print(\"Execução sem problemas\")\n",
    "finally:\n",
    "    print(\"Sempre executado\")"
   ]
  },
  {
   "cell_type": "code",
   "execution_count": null,
   "metadata": {},
   "outputs": [],
   "source": [
    "while True:\n",
    "    try:\n",
    "        a = int(input(\"Digite um número inteiro: \"))\n",
    "    except Exception as i:\n",
    "        print(\"Por favor eu disse inteiro não decimal ou string.\")\n",
    "    else:\n",
    "        print(\"else\")\n",
    "        break\n",
    "    finally:\n",
    "        print(finally)"
   ]
  }
 ],
 "metadata": {
  "kernelspec": {
   "display_name": "Python 3",
   "language": "python",
   "name": "python3"
  },
  "language_info": {
   "codemirror_mode": {
    "name": "ipython",
    "version": 3
   },
   "file_extension": ".py",
   "mimetype": "text/x-python",
   "name": "python",
   "nbconvert_exporter": "python",
   "pygments_lexer": "ipython3",
   "version": "3.12.3"
  }
 },
 "nbformat": 4,
 "nbformat_minor": 2
}
