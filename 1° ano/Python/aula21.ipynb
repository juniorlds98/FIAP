{
 "cells": [
  {
   "cell_type": "markdown",
   "metadata": {},
   "source": [
    "Resumo Recursão"
   ]
  },
  {
   "cell_type": "code",
   "execution_count": 1,
   "metadata": {},
   "outputs": [
    {
     "name": "stdout",
     "output_type": "stream",
     "text": [
      "8\n"
     ]
    }
   ],
   "source": [
    "def potencia(base, exponente):\n",
    "    if exponente == 0:\n",
    "        return 1\n",
    "    else:\n",
    "        return base * potencia(base, exponente - 1)\n",
    "\n",
    "base = 2\n",
    "exponente = 3\n",
    "print(potencia(base, exponente))  "
   ]
  },
  {
   "cell_type": "code",
   "execution_count": null,
   "metadata": {},
   "outputs": [],
   "source": [
    "def fatorial(n):\n",
    "    if n == 0:\n",
    "        return 1\n",
    "    else:\n",
    "        aux = fatorial(n-1)\n",
    "        return n * aux\n",
    "\n",
    "n = 4\n",
    "\n",
    "print(fatorial(n))"
   ]
  },
  {
   "cell_type": "markdown",
   "metadata": {},
   "source": [
    "Faça uma função recursiva para calcular o valor de seno(x)"
   ]
  },
  {
   "cell_type": "code",
   "execution_count": null,
   "metadata": {},
   "outputs": [],
   "source": [
    "def fatorial(n):\n",
    "    if n == 0:\n",
    "        return 1\n",
    "    else:\n",
    "        aux = fatorial(n-1)\n",
    "        return n * aux\n",
    "\n",
    "def seno(x, n):\n",
    "    if n == 0:\n",
    "        return x\n",
    "    termo = ((-1**n) * (x**(2*n + 1))) / fatorial(2*n + 1)\n",
    "    return termo + seno(x, n -1)\n",
    "\n",
    "pi = 3.14159265358973\n",
    "x = pi/2\n",
    "\n",
    "resultado = seno(x, 84)\n",
    "print(resultado)\n",
    "    "
   ]
  },
  {
   "cell_type": "markdown",
   "metadata": {},
   "source": [
    "Jeito do professor"
   ]
  },
  {
   "cell_type": "code",
   "execution_count": 1,
   "metadata": {},
   "outputs": [
    {
     "name": "stdout",
     "output_type": "stream",
     "text": [
      "27\n"
     ]
    },
    {
     "ename": "TypeError",
     "evalue": "sen() missing 1 required positional argument: 'n'",
     "output_type": "error",
     "traceback": [
      "\u001b[1;31m---------------------------------------------------------------------------\u001b[0m",
      "\u001b[1;31mTypeError\u001b[0m                                 Traceback (most recent call last)",
      "Cell \u001b[1;32mIn[1], line 19\u001b[0m\n\u001b[0;32m     16\u001b[0m         \u001b[38;5;28;01mreturn\u001b[39;00m x\n\u001b[0;32m     17\u001b[0m     \u001b[38;5;28;01mreturn\u001b[39;00m expoente(\u001b[38;5;241m-\u001b[39m\u001b[38;5;241m1\u001b[39m,n)\u001b[38;5;241m*\u001b[39mexponente(x, \u001b[38;5;241m2\u001b[39m\u001b[38;5;241m*\u001b[39mn\u001b[38;5;241m+\u001b[39m\u001b[38;5;241m1\u001b[39m) \u001b[38;5;241m/\u001b[39m fatorial(\u001b[38;5;241m2\u001b[39m\u001b[38;5;241m*\u001b[39mn \u001b[38;5;241m+\u001b[39m \u001b[38;5;241m1\u001b[39m) \u001b[38;5;241m+\u001b[39m sen(x, n \u001b[38;5;241m-\u001b[39m \u001b[38;5;241m1\u001b[39m)\n\u001b[1;32m---> 19\u001b[0m \u001b[38;5;28mprint\u001b[39m(\u001b[43msen\u001b[49m\u001b[43m(\u001b[49m\u001b[38;5;241;43m3\u001b[39;49m\u001b[38;5;241;43m*\u001b[39;49m\u001b[38;5;241;43m3.14\u001b[39;49m\u001b[38;5;241;43m/\u001b[39;49m\u001b[38;5;241;43m2\u001b[39;49m\u001b[43m \u001b[49m\u001b[43m)\u001b[49m)\n",
      "\u001b[1;31mTypeError\u001b[0m: sen() missing 1 required positional argument: 'n'"
     ]
    }
   ],
   "source": [
    "def fatorial(n):\n",
    "    if n == 0:\n",
    "        return 1\n",
    "    else:\n",
    "        aux = fatorial(n-1)\n",
    "        return n * aux\n",
    "\n",
    "def expoente(x,n):\n",
    "    if n == 0:\n",
    "        return 1\n",
    "    return x * expoente(x,n-1)\n",
    "print(expoente(3, 3))\n",
    "\n",
    "def sen(x, n):\n",
    "    if n == 0:\n",
    "        return x\n",
    "    return expoente(-1,n)*exponente(x, 2*n+1) / fatorial(2*n + 1) + sen(x, n - 1)\n",
    "\n",
    "print(sen(3*3.14/2 ))"
   ]
  },
  {
   "cell_type": "markdown",
   "metadata": {},
   "source": [
    "Manipular arquivos"
   ]
  },
  {
   "cell_type": "markdown",
   "metadata": {},
   "source": [
    "- Tera a linguagem de arquivos maiores\n",
    "- Os dados são inseridos de forma mais rápida\n",
    "- Sempre será dado pelo nome e pelo caminho\n",
    "- Para trabalhar com o arquivo deve abrir e associar a uma variável\n",
    "- Ele é um objetivo tipo file\n",
    "- O primeiro passo é abrir o arquivo com o comando open\n",
    "Ex: variavel = open(\"Nome do arquivo\", \"modo\")\n",
    "- R: Serve para leitura (R+)\n",
    "- W: Serve para escrita, mas ele apaga tudo (W+)\n",
    "- A: Ele escreve e preserva o que já existe (A+)\n",
    "- B: Modo binário da para colocar um json dentro de um dicionário e associar a uma variável (W + B) ou (B)\n",
    "- +: Atualização (leitura e escrita)\n",
    "- Se abrir arquivo para leitura e ele não existir vai dar erro\n",
    "- O close no final deverá ser feito para economizar espaço na memória\n"
   ]
  },
  {
   "cell_type": "code",
   "execution_count": 2,
   "metadata": {},
   "outputs": [
    {
     "name": "stdout",
     "output_type": "stream",
     "text": [
      "Linha 1: Hoje-tem-aula-de-python!\n",
      "Linha 2: Hoje-tem-aula-de-python!\n",
      "Linha 3: Hoje-tem-aula-de-python!\n",
      "Linha 4: Hoje-tem-aula-de-python!\n",
      "Linha 5: Hoje-tem-aula-de-python!\n",
      "\n"
     ]
    }
   ],
   "source": [
    "a = open(\"aula12.txt\", \"r\")\n",
    "txt = a.read()\n",
    "print(txt)"
   ]
  },
  {
   "cell_type": "code",
   "execution_count": 4,
   "metadata": {},
   "outputs": [
    {
     "name": "stdout",
     "output_type": "stream",
     "text": [
      "Linha 1: Hoje-tem-aula-de-python!\n",
      "\n"
     ]
    }
   ],
   "source": [
    "a = open(\"aula12.txt\", \"r\")\n",
    "txt = a.readline()\n",
    "print(txt)"
   ]
  },
  {
   "cell_type": "code",
   "execution_count": 14,
   "metadata": {},
   "outputs": [
    {
     "name": "stdout",
     "output_type": "stream",
     "text": [
      "\n"
     ]
    }
   ],
   "source": [
    "a = open(\"aula12.txt\", \"r\")\n",
    "i = 0\n",
    "\n",
    "while True:\n",
    "    txt = a.readline()\n",
    "    i += 1\n",
    "    print(txt)\n",
    "    if txt == \"\":\n",
    "        break\n",
    "    a.close"
   ]
  },
  {
   "cell_type": "code",
   "execution_count": 1,
   "metadata": {},
   "outputs": [],
   "source": [
    "\n",
    "arquivo = open(\"aula12.txt\", \"r+\")\n",
    "\n",
    "final = \"\"\n",
    "while True:\n",
    "    txt = arquivo.read(1)\n",
    "    if txt == \"a\":\n",
    "        txt = \"A\"\n",
    "    final += txt\n",
    "    if txt == \"\":\n",
    "        break\n",
    "\n",
    "arquivo.close()\n",
    "arquivo = open(\"aula12.txt\", \"w\")\n",
    "arquivo.write(final)\n",
    "arquivo.close()"
   ]
  },
  {
   "cell_type": "markdown",
   "metadata": {},
   "source": [
    "Parâmetros do programa"
   ]
  },
  {
   "cell_type": "markdown",
   "metadata": {},
   "source": [
    "- Passar parametros quando o programa é executado\n",
    "- Método sys.argv\n",
    "- Bom para passar dados de entrada via linha de comando\n",
    "- Pode ser feito um programa com bash para fazer execução aleatórias"
   ]
  },
  {
   "cell_type": "code",
   "execution_count": 2,
   "metadata": {},
   "outputs": [
    {
     "name": "stdout",
     "output_type": "stream",
     "text": [
      "['c:\\\\Program Files\\\\Python312\\\\Lib\\\\site-packages\\\\ipykernel_launcher.py', '--f=c:\\\\Users\\\\labsfiap\\\\AppData\\\\Roaming\\\\jupyter\\\\runtime\\\\kernel-v2-2180ebFVU2blgnC1.json']\n"
     ]
    }
   ],
   "source": [
    "import sys\n",
    "\n",
    "argumentos  = sys.argv\n",
    "print(argumentos)"
   ]
  },
  {
   "cell_type": "markdown",
   "metadata": {},
   "source": [
    "Arquivos Binários"
   ]
  },
  {
   "cell_type": "markdown",
   "metadata": {},
   "source": [
    "A motivação principal é que objetos ocupam menos espaço quando comparado em sua forma de texto, então armazenar de forma mais simples\n",
    "- Ajuda a guardar estruturas complexas\n",
    "Os métodoso são:\n",
    "- Leitura  RB\n",
    "- Escrita WB\n",
    "- Leitura e escrita R+B\n",
    "- Tem que usar o import pickle\n",
    "- Para escrever um objeto usar o picke.dump\n",
    "- Podemos ler a partir do p\n"
   ]
  },
  {
   "cell_type": "code",
   "execution_count": 6,
   "metadata": {},
   "outputs": [],
   "source": [
    "import pickle\n",
    "\n",
    "lista = [65,66,67,68,69]\n",
    "arqbin = open(\"arq1.bin\", \"wb\")\n",
    "\n",
    "pickle.dump(lista, arqbin)\n",
    "arqbin.close()"
   ]
  },
  {
   "cell_type": "code",
   "execution_count": 7,
   "metadata": {},
   "outputs": [
    {
     "name": "stdout",
     "output_type": "stream",
     "text": [
      "[65, 66, 67, 68, 69]\n"
     ]
    }
   ],
   "source": [
    "import pickle\n",
    "\n",
    "arq = open(\"arq1.bin\", \"rb\")\n",
    "a = pickle.load(arq)\n",
    "print(a)\n",
    "arq.close()"
   ]
  }
 ],
 "metadata": {
  "kernelspec": {
   "display_name": "Python 3",
   "language": "python",
   "name": "python3"
  },
  "language_info": {
   "codemirror_mode": {
    "name": "ipython",
    "version": 3
   },
   "file_extension": ".py",
   "mimetype": "text/x-python",
   "name": "python",
   "nbconvert_exporter": "python",
   "pygments_lexer": "ipython3",
   "version": "3.12.3"
  }
 },
 "nbformat": 4,
 "nbformat_minor": 2
}
