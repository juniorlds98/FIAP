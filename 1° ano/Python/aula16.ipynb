{
 "cells": [
  {
   "cell_type": "code",
   "execution_count": null,
   "metadata": {},
   "outputs": [],
   "source": [
    "lambda <>:<codigo com retorno>\n",
    "\n",
    "a = lambda x, y: x+y"
   ]
  },
  {
   "cell_type": "code",
   "execution_count": null,
   "metadata": {},
   "outputs": [],
   "source": [
    "list comprehensions\n"
   ]
  },
  {
   "cell_type": "code",
   "execution_count": 11,
   "metadata": {},
   "outputs": [
    {
     "name": "stdout",
     "output_type": "stream",
     "text": [
      "[[0, 1, 2, 3, 4, 5, 6], [7, 8, 9, 10, 11, 12, 13], [14, 15, 16, 17, 18, 19, 20], [21, 22, 23, 24, 25, 26, 27], [28, 29, 30, 31, 32, 33, 34]]\n"
     ]
    }
   ],
   "source": [
    "def matriz (linha, coluna):\n",
    "    matrizAux = []\n",
    "    aux = 0\n",
    "    for i in range(linha):\n",
    "        fileira = []\n",
    "        for j in range(coluna):\n",
    "            fileira.append(aux)\n",
    "            aux += 1\n",
    "        matrizAux.append(fileira)\n",
    "    return matrizAux\n",
    "print(matriz(5,7))\n",
    "\n",
    " "
   ]
  },
  {
   "cell_type": "code",
   "execution_count": 46,
   "metadata": {},
   "outputs": [
    {
     "name": "stdout",
     "output_type": "stream",
     "text": [
      "19\n"
     ]
    }
   ],
   "source": [
    "a = [[1,2,3],\n",
    "    [1,5,7]\n",
    "]\n",
    "aux = 0\n",
    "\n",
    "for j in a:\n",
    "    for i in j:\n",
    "        aux += i\n",
    "\n",
    "print(aux)\n",
    "    \n",
    "    \n",
    "\n",
    "        \n",
    "        "
   ]
  },
  {
   "cell_type": "code",
   "execution_count": 34,
   "metadata": {},
   "outputs": [
    {
     "name": "stdout",
     "output_type": "stream",
     "text": [
      "Matriz comum\n",
      "[1, 2, 3]\n",
      "[4, 5, 6]\n",
      "Matriz transposta\n",
      "[1, 4]\n",
      "[2, 5]\n",
      "[3, 6]\n"
     ]
    }
   ],
   "source": [
    "matriz1 = []\n",
    "matriz2 = []\n",
    "\n",
    "c = int(input(\"Quantas colunas terá uma matriz: \"))\n",
    "l = int(input(\"Quantas linhas terá uma matriz: \"))\n",
    "\n",
    "for j in range(l):\n",
    "    linha = []\n",
    "    for i in range(c):\n",
    "        linha.append(int(input(\"Digite um valor: \")))\n",
    "    matriz1.append(linha)\n",
    "\n",
    "for i in range(len(matriz1[0])):\n",
    "    novaLinha = []\n",
    "    for j in range(len(matriz1)):\n",
    "        novaLinha.append(matriz1[j][i])\n",
    "    matriz2.append(novaLinha)\n",
    "\n",
    "print(\"Matriz comum\")\n",
    "for linha in matriz1:\n",
    "    print(linha)\n",
    "\n",
    "print(\"Matriz transposta\")\n",
    "for linha in matriz2:\n",
    "    print(linha)"
   ]
  },
  {
   "cell_type": "code",
   "execution_count": 67,
   "metadata": {},
   "outputs": [
    {
     "ename": "TypeError",
     "evalue": "'list' object is not callable",
     "output_type": "error",
     "traceback": [
      "\u001b[1;31m---------------------------------------------------------------------------\u001b[0m",
      "\u001b[1;31mTypeError\u001b[0m                                 Traceback (most recent call last)",
      "Cell \u001b[1;32mIn[67], line 9\u001b[0m\n\u001b[0;32m      6\u001b[0m lista \u001b[38;5;241m=\u001b[39m []\n\u001b[0;32m      7\u001b[0m aux \u001b[38;5;241m=\u001b[39m \u001b[38;5;241m0\u001b[39m\n\u001b[1;32m----> 9\u001b[0m \u001b[38;5;28;01mfor\u001b[39;00m i \u001b[38;5;129;01min\u001b[39;00m \u001b[43mmatriz\u001b[49m\u001b[43m(\u001b[49m\u001b[43mmatriz\u001b[49m\u001b[43m[\u001b[49m\u001b[38;5;241;43m0\u001b[39;49m\u001b[43m]\u001b[49m\u001b[43m)\u001b[49m:\n\u001b[0;32m     10\u001b[0m     \u001b[38;5;28mprint\u001b[39m(\u001b[38;5;28mlen\u001b[39m(i))\n",
      "\u001b[1;31mTypeError\u001b[0m: 'list' object is not callable"
     ]
    }
   ],
   "source": [
    "\n",
    "\n",
    "\n",
    "\n"
   ]
  }
 ],
 "metadata": {
  "kernelspec": {
   "display_name": "Python 3",
   "language": "python",
   "name": "python3"
  },
  "language_info": {
   "codemirror_mode": {
    "name": "ipython",
    "version": 3
   },
   "file_extension": ".py",
   "mimetype": "text/x-python",
   "name": "python",
   "nbconvert_exporter": "python",
   "pygments_lexer": "ipython3",
   "version": "3.12.3"
  }
 },
 "nbformat": 4,
 "nbformat_minor": 2
}
