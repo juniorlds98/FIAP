{
 "cells": [
  {
   "cell_type": "markdown",
   "id": "5e9c647b",
   "metadata": {},
   "source": [
    "- Caio Martinez Saes rm: 560753\n",
    "- José Claudio da Silva Junior rm: 559680"
   ]
  },
  {
   "cell_type": "code",
   "execution_count": 11,
   "id": "76e74702",
   "metadata": {},
   "outputs": [
    {
     "name": "stdout",
     "output_type": "stream",
     "text": [
      "1° Pessoa adicionada na pilha: Ju\n",
      "2° Pessoa adicionada na pilha: Ni\n",
      "3° Pessoa adicionada na pilha: Oe\n",
      "Oe\n",
      "Oe saiu\n",
      "Ni saiu\n",
      "Ju saiu\n"
     ]
    }
   ],
   "source": [
    "limite = 3 \n",
    "aux = 0\n",
    "pilha =[]\n",
    "\n",
    "for i in range(limite):\n",
    "    pessoa = input(\"Escreva a primeira pessoa: \")\n",
    "    pilha.append(pessoa)\n",
    "    print(f\"{aux + 1}° Pessoa adicionada na pilha: {pessoa}\")\n",
    "    aux += 1\n",
    "print(pilha[-1])\n",
    "while len(pilha) > 0:\n",
    "    pessoa = pilha.pop()\n",
    "    print(f\"{pessoa} saiu\")"
   ]
  },
  {
   "cell_type": "code",
   "execution_count": 10,
   "id": "40586591",
   "metadata": {},
   "outputs": [
    {
     "name": "stdout",
     "output_type": "stream",
     "text": [
      "1° Pessoa adicionada na fila: Ju\n",
      "2° Pessoa adicionada na fila: Ni\n",
      "3° Pessoa adicionada na fila: Or\n",
      "Ju saiu\n",
      "Ni saiu\n",
      "Or saiu\n"
     ]
    }
   ],
   "source": [
    "limite = 3 \n",
    "aux = 0\n",
    "fila =[]\n",
    "\n",
    "for i in range(limite):\n",
    "    pessoa = input(f\"Escreva a {aux + 1}° pessoa: \")\n",
    "    fila.append(pessoa)\n",
    "    print(f\"{aux + 1}° Pessoa adicionada na fila: {pessoa}\")\n",
    "    aux += 1\n",
    "while len(fila) > 0:\n",
    "    pessoa = fila.pop(0)\n",
    "    print(f\"{pessoa} saiu\")"
   ]
  }
 ],
 "metadata": {
  "kernelspec": {
   "display_name": "base",
   "language": "python",
   "name": "python3"
  },
  "language_info": {
   "codemirror_mode": {
    "name": "ipython",
    "version": 3
   },
   "file_extension": ".py",
   "mimetype": "text/x-python",
   "name": "python",
   "nbconvert_exporter": "python",
   "pygments_lexer": "ipython3",
   "version": "3.13.5"
  }
 },
 "nbformat": 4,
 "nbformat_minor": 5
}
