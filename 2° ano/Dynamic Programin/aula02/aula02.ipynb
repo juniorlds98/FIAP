{
 "cells": [
  {
   "cell_type": "code",
   "execution_count": 3,
   "id": "da203d19",
   "metadata": {},
   "outputs": [
    {
     "name": "stdout",
     "output_type": "stream",
     "text": [
      "['A', 'B', 'C', 'D']\n",
      "('A', 'B', 'C', 'D')\n",
      "{'time': ['Palmeiras', 'São Paulo', 'Corinthians', 'Santos'], 'vitorias': [10, 25, 11, 14]}\n"
     ]
    },
    {
     "data": {
      "text/html": [
       "<div>\n",
       "<style scoped>\n",
       "    .dataframe tbody tr th:only-of-type {\n",
       "        vertical-align: middle;\n",
       "    }\n",
       "\n",
       "    .dataframe tbody tr th {\n",
       "        vertical-align: top;\n",
       "    }\n",
       "\n",
       "    .dataframe thead th {\n",
       "        text-align: right;\n",
       "    }\n",
       "</style>\n",
       "<table border=\"1\" class=\"dataframe\">\n",
       "  <thead>\n",
       "    <tr style=\"text-align: right;\">\n",
       "      <th></th>\n",
       "      <th>time</th>\n",
       "      <th>vitorias</th>\n",
       "    </tr>\n",
       "  </thead>\n",
       "  <tbody>\n",
       "    <tr>\n",
       "      <th>0</th>\n",
       "      <td>Palmeiras</td>\n",
       "      <td>10</td>\n",
       "    </tr>\n",
       "    <tr>\n",
       "      <th>1</th>\n",
       "      <td>São Paulo</td>\n",
       "      <td>25</td>\n",
       "    </tr>\n",
       "    <tr>\n",
       "      <th>2</th>\n",
       "      <td>Corinthians</td>\n",
       "      <td>11</td>\n",
       "    </tr>\n",
       "    <tr>\n",
       "      <th>3</th>\n",
       "      <td>Santos</td>\n",
       "      <td>14</td>\n",
       "    </tr>\n",
       "  </tbody>\n",
       "</table>\n",
       "</div>"
      ],
      "text/plain": [
       "          time  vitorias\n",
       "0    Palmeiras        10\n",
       "1    São Paulo        25\n",
       "2  Corinthians        11\n",
       "3       Santos        14"
      ]
     },
     "execution_count": 3,
     "metadata": {},
     "output_type": "execute_result"
    }
   ],
   "source": [
    "#Estrutura de busca linear\n",
    "\n",
    "lista = [\"A\", \"B\", \"C\", \"D\"]\n",
    "tupla = (\"A\", \"B\", \"C\", \"D\") #Tupla é mais rápido que lista\n",
    "\n",
    "dicionario = {\n",
    "    \"time\": [\"Palmeiras\", \"São Paulo\", \"Corinthians\", \"Santos\"],\n",
    "    \"vitorias\": [10, 25, 11, 14]\n",
    "}\n",
    "\n",
    "print(lista)\n",
    "print(tupla)\n",
    "print(dicionario)\n",
    "\n",
    "import pandas as pd\n",
    "\n",
    "df = pd.DataFrame(dicionario)\n",
    "df"
   ]
  },
  {
   "cell_type": "code",
   "execution_count": null,
   "id": "9a580888",
   "metadata": {},
   "outputs": [],
   "source": [
    "!pip install matplotlib"
   ]
  },
  {
   "cell_type": "code",
   "execution_count": 9,
   "id": "593a839a",
   "metadata": {},
   "outputs": [
    {
     "data": {
      "image/png": "[encoded data removed]",
      "text/plain": [
       "<Figure size 640x480 with 1 Axes>"
      ]
     },
     "metadata": {},
     "output_type": "display_data"
    }
   ],
   "source": [
    "import matplotlib.pyplot as plt\n",
    "\n",
    "time = df[\"time\"]\n",
    "vitorias = df[\"vitorias\"]\n",
    "\n",
    "plt.bar(time, vitorias)\n",
    "plt.show()"
   ]
  },
  {
   "cell_type": "code",
   "execution_count": 19,
   "id": "5c4cab24",
   "metadata": {},
   "outputs": [
    {
     "name": "stdout",
     "output_type": "stream",
     "text": [
      "O índice 0 - vermelho\n",
      "O índice 1 - verde\n",
      "O índice 2 - azul\n",
      "O índice 0 - vermelho\n",
      "O índice 1 - verde\n",
      "O índice 2 - azul\n"
     ]
    }
   ],
   "source": [
    "#Estrutura de busca linear\n",
    "\n",
    "cores = [\"vermelho\", \"verde\", \"azul\"]\n",
    "\n",
    "\n",
    "for i in range(len(cores)):\n",
    "    print(f\"O índice {i} - {cores[i]}\")\n",
    "\n",
    "i = 0\n",
    "\n",
    "while i < (len(cores)):\n",
    "    print(f\"O índice {i} - {cores[i]}\")\n",
    "    i += 1\n"
   ]
  },
  {
   "cell_type": "code",
   "execution_count": 29,
   "id": "25f2309d",
   "metadata": {},
   "outputs": [
    {
     "name": "stdout",
     "output_type": "stream",
     "text": [
      "O valor é: 10\n",
      "A média é: 2.5\n"
     ]
    }
   ],
   "source": [
    "#Estrutura de busca binária\n",
    "\n",
    "tupla = (2, 4, 2, 2)\n",
    "contador = 0\n",
    "\n",
    "for i in range(len(tupla)):\n",
    "    contador += tupla[i]\n",
    "media = contador / len(tupla)\n",
    "print(f\"O valor é: {contador}\")\n",
    "print(f\"A média é: {media}\")\n",
    "\n"
   ]
  },
  {
   "cell_type": "code",
   "execution_count": null,
   "id": "ea845712",
   "metadata": {},
   "outputs": [
    {
     "name": "stdout",
     "output_type": "stream",
     "text": [
      "19\n",
      "22\n"
     ]
    }
   ],
   "source": [
    "valores = (15, 3, 8, 22, 7)\n",
    "\n",
    "diferenca = max(valores) - min(valores)\n",
    "maior = max(valores)\n",
    "    \n",
    "print(diferenca)\n",
    "print(maior)\n"
   ]
  },
  {
   "cell_type": "code",
   "execution_count": 49,
   "id": "287f7960",
   "metadata": {},
   "outputs": [
    {
     "name": "stdout",
     "output_type": "stream",
     "text": [
      "40\n"
     ]
    }
   ],
   "source": [
    "dados = (2, 5, 4)\n",
    "contador = 1\n",
    "\n",
    "for i in dados:\n",
    "    contador *= i\n",
    "print(contador)"
   ]
  },
  {
   "cell_type": "code",
   "execution_count": 67,
   "id": "baa53d2e",
   "metadata": {},
   "outputs": [
    {
     "name": "stdout",
     "output_type": "stream",
     "text": [
      "Ana 8.0\n",
      "Bruna 6.0\n",
      "Carla 9.0\n"
     ]
    }
   ],
   "source": [
    "notas_alunos = (\n",
    "    (\"Ana\", (8, 7, 9)),\n",
    "    (\"Bruna\", (6, 5, 7)),\n",
    "    (\"Carla\", (10,9,8))\n",
    ")\n",
    "\n",
    "for i in notas_alunos:\n",
    "    print(i[0], sum(i[1])/len(i[1]))\n"
   ]
  },
  {
   "cell_type": "code",
   "execution_count": 85,
   "id": "8d704b7b",
   "metadata": {},
   "outputs": [
    {
     "name": "stdout",
     "output_type": "stream",
     "text": [
      "Soma: 7\n",
      "distância: 5.0\n",
      "Soma: 17\n",
      "distância: 13.0\n",
      "Soma: 23\n",
      "distância: 17.0\n"
     ]
    }
   ],
   "source": [
    "coordenadas = (\n",
    "    (3, 4),\n",
    "    (5, 12),\n",
    "    (8, 15)\n",
    ")\n",
    "contador = 0\n",
    "distancia = 0\n",
    "\n",
    "for i ,j in coordenadas:\n",
    "    print(f\"Soma: {sum(coordenadas[contador])}\")\n",
    "    distancia = (f\"distância: {(i**2+j**2)**0.5}\")\n",
    "    contador += 1\n",
    "    print(distancia)\n",
    "    "
   ]
  },
  {
   "cell_type": "code",
   "execution_count": null,
   "id": "2783c0ae",
   "metadata": {},
   "outputs": [],
   "source": [
    "estoque = (\n",
    "    (\"Maça\", (2.50, 120)), \n",
    "    (\"Banana\", (1.80, 200)),\n",
    "    (\"Laranja\", 3.20, 150)\n",
    ")\n",
    "\n",
    "precoM = 0 \n",
    "precoB = 0 \n",
    "precoL = 0\n",
    " "
   ]
  }
 ],
 "metadata": {
  "kernelspec": {
   "display_name": "anaconda-toolbox",
   "language": "python",
   "name": "python3"
  },
  "language_info": {
   "codemirror_mode": {
    "name": "ipython",
    "version": 3
   },
   "file_extension": ".py",
   "mimetype": "text/x-python",
   "name": "python",
   "nbconvert_exporter": "python",
   "pygments_lexer": "ipython3",
   "version": "3.13.5"
  }
 },
 "nbformat": 4,
 "nbformat_minor": 5
}
