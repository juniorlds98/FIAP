{
 "cells": [
  {
   "cell_type": "markdown",
   "id": "92a54199",
   "metadata": {},
   "source": [
    "Aula 04 -Filas"
   ]
  },
  {
   "cell_type": "markdown",
   "id": "cb9b7848",
   "metadata": {},
   "source": [
    "Uma fila é uma estrutura linear, \"First in first out\" (FIFO). Lista não tem lógica, pode ser tratado de qualquer forma."
   ]
  },
  {
   "cell_type": "markdown",
   "id": "e4e864bb",
   "metadata": {},
   "source": [
    "Notação (Big-O)\n",
    "- É uma forma de medir o custo de uma operação ou algoritmo, em função do número de elementos\n",
    "- Em vez de medir em segundos (que depende do computador), medimos a quantidade de passos"
   ]
  },
  {
   "cell_type": "markdown",
   "id": "a99f403d",
   "metadata": {},
   "source": [
    "- O(1) - Constante: É uma constante, sempre o mesmo tempo, não importa o tamanho. Ex: lista.append(x)(inserir a continuação)\n",
    "- O(n) - Linear: o tempo cresce proporcional ao tamanho da entrada. Ex: lista.pop(0)(remover do inicio -> precisa deslocar todos os n-1 elementos)."
   ]
  },
  {
   "cell_type": "markdown",
   "id": "0f762f17",
   "metadata": {},
   "source": [
    "- Lista: append() Insere no fim\n",
    "- Lista: pop() Remove no fim\n",
    "- Fila: append() Insere no começo\n",
    "- Fila: pop() Remove no fima"
   ]
  },
  {
   "cell_type": "code",
   "execution_count": 3,
   "id": "f0b24410",
   "metadata": {},
   "outputs": [
    {
     "name": "stdout",
     "output_type": "stream",
     "text": [
      "Fila inicial ['Cliente 1', 'Cliente 2', 'Cliente 3']\n",
      "Fila após inserção: ['Cliente 1', 'Cliente 2', 'Cliente 3', 'Cliente 4', 'Cliente 5']\n",
      "Atendendo Cliente 1\n",
      "Atendendo Cliente 2\n",
      "Atendendo Cliente 3\n",
      "Atendendo Cliente 4\n",
      "Atendendo Cliente 5\n",
      "Fila final:  []\n"
     ]
    }
   ],
   "source": [
    "fila = [\"Cliente 1\", \"Cliente 2\", \"Cliente 3\"]\n",
    "\n",
    "print(\"Fila inicial\", fila)\n",
    "\n",
    "fila.append(\"Cliente 4\")\n",
    "fila.append(\"Cliente 5\")\n",
    "print(\"Fila após inserção:\", fila)\n",
    "\n",
    "\n",
    "while len(fila) > 0:\n",
    "    cliente = fila.pop(0)\n",
    "    print(f\"Atendendo {cliente}\")\n",
    "print(\"Fila final: \", fila)"
   ]
  },
  {
   "cell_type": "code",
   "execution_count": 4,
   "id": "f3f54059",
   "metadata": {},
   "outputs": [
    {
     "name": "stdout",
     "output_type": "stream",
     "text": [
      "Atendendo Junior\n",
      "Atendendo Caio\n",
      "Atendendo Estefany\n",
      "Todos os clientes atendidos\n"
     ]
    }
   ],
   "source": [
    "fila = []\n",
    "\n",
    "quantidade = 3\n",
    "\n",
    "for i in range(quantidade):\n",
    "    nome = input(f\"Digite o nome do cliente {i + 1}: \")\n",
    "    fila.append(nome)\n",
    "\n",
    "while len(fila) > 0:\n",
    "    cliente = fila.pop(0)\n",
    "    print(f\"Atendendo {cliente}\")\n",
    "\n",
    "print(\"Todos os clientes atendidos\")"
   ]
  },
  {
   "cell_type": "code",
   "execution_count": 5,
   "id": "c2660afa",
   "metadata": {},
   "outputs": [
    {
     "name": "stdout",
     "output_type": "stream",
     "text": [
      "O cliente mais lindo chamado Junior está indo embora :(\n",
      "O cliente mais lindo chamado José está indo embora :(\n",
      "O cliente mais lindo chamado Claudio está indo embora :(\n",
      "Todos os lindos foram embora :/\n"
     ]
    }
   ],
   "source": [
    "fila = []\n",
    "\n",
    "aux = 3\n",
    "\n",
    "for i in range(aux):\n",
    "    nome = input(f\"Qual é o lindo nome do {i+1}° da fila: \")\n",
    "    fila.append(nome)\n",
    "\n",
    "while len(fila) > 0:\n",
    "    lindo = fila.pop(0)\n",
    "    print(f\"O cliente mais lindo chamado {lindo} está indo embora :(\")\n",
    "print(\"Todos os lindos foram embora :/\")"
   ]
  }
 ],
 "metadata": {
  "kernelspec": {
   "display_name": "base",
   "language": "python",
   "name": "python3"
  },
  "language_info": {
   "codemirror_mode": {
    "name": "ipython",
    "version": 3
   },
   "file_extension": ".py",
   "mimetype": "text/x-python",
   "name": "python",
   "nbconvert_exporter": "python",
   "pygments_lexer": "ipython3",
   "version": "3.13.5"
  }
 },
 "nbformat": 4,
 "nbformat_minor": 5
}
