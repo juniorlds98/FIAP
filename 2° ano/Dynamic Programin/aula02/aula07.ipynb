{
 "cells": [
  {
   "cell_type": "markdown",
   "id": "c9c5935c",
   "metadata": {},
   "source": [
    "- O(1) constante -> Tempo não depende do tamanho da entrada \n",
    "- O(n) linear -> Tempo cresce proporcional a N\n",
    "- O(n²) quadrática -> Tempo cresce como n vezes N (Bubble sort)\n",
    "- O(log n) logaritmica -> Muito eficiente, divide o problema em partes (arvores binárias, arvores de descisões)"
   ]
  },
  {
   "cell_type": "markdown",
   "id": "70969504",
   "metadata": {},
   "source": [
    "Tipos de análise (Análise sintótica)\n",
    "\n",
    "- Melhor caso: Quando o algoritmo executa com o menor esforço possível\n",
    "- Pior caso: Quando o algoritmo executa com o maior esforço possível\n",
    "- Caso médio: Situação esperada normalmente, entre o melhor e pior caso\n",
    "\n",
    "Exemplo com busca linear em uma lista de tamanho N:\n",
    "- Melhor caso: Elemento está na primeira posição -> O(1)\n",
    "- Pior caso: Elemento não está na lista -> O(n)\n",
    "- Caso médio: elemento está no meio -> Cerca de n/2 comparações -> O(n)"
   ]
  },
  {
   "cell_type": "markdown",
   "id": "161d8e92",
   "metadata": {},
   "source": [
    "- Busca linear -> Funciona sem ordenar, mas lenta em listas grandes\n",
    "- Bubble sort -> Ordena no lugar, porém é ineficiente\n",
    "- Busca binária -> Muito rápida mas exige que a lista já esteja ORDENADA"
   ]
  },
  {
   "cell_type": "markdown",
   "id": "88ddc286",
   "metadata": {},
   "source": [
    "Para identificar a complexidade de um algoritmo observe:\n",
    "- Quantos loops ele possui?\n",
    "- Há recursão?\n",
    "- Precisa ordenar os dados antes?"
   ]
  },
  {
   "cell_type": "markdown",
   "id": "0e4b3f98",
   "metadata": {},
   "source": [
    "Busca linear:"
   ]
  },
  {
   "cell_type": "code",
   "execution_count": 6,
   "id": "4d2a21e4",
   "metadata": {},
   "outputs": [
    {
     "name": "stdout",
     "output_type": "stream",
     "text": [
      "Encontrado na posição 4. Foi achado em 4 repetições\n",
      "Valor não encontrado. Foi usado 5 repetições\n"
     ]
    }
   ],
   "source": [
    "def buscaLinear (lista, valor):\n",
    "    aux = 0\n",
    "    for i in range(len(lista)):\n",
    "        aux += 1\n",
    "        if lista[i] == valor:\n",
    "            return f\"Encontrado na posição {i + 1}. Foi achado em {aux} repetições\"\n",
    "    return f\"Valor não encontrado. Foi usado {aux} repetições\"\n",
    "dados = [2, 4, 6, 8, 10]\n",
    "\n",
    "print(buscaLinear(dados, 8))\n",
    "\n",
    "print(buscaLinear(dados, 15))"
   ]
  }
 ],
 "metadata": {
  "kernelspec": {
   "display_name": "base",
   "language": "python",
   "name": "python3"
  },
  "language_info": {
   "codemirror_mode": {
    "name": "ipython",
    "version": 3
   },
   "file_extension": ".py",
   "mimetype": "text/x-python",
   "name": "python",
   "nbconvert_exporter": "python",
   "pygments_lexer": "ipython3",
   "version": "3.13.5"
  }
 },
 "nbformat": 4,
 "nbformat_minor": 5
}
