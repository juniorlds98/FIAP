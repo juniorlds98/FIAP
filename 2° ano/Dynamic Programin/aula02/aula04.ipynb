{
 "cells": [
  {
   "cell_type": "markdown",
   "id": "000f978e",
   "metadata": {},
   "source": [
    "Lista\n",
    "\n",
    "- É uma estrutura sequencial, ordenada e mutável que armazena elementos em índices (começando pelo zero)\n",
    "- Permite duplicatas e tipos mistos (didaticamente, prefira listas homogêneas no inicio)\n",
    "- Modelo mental: Uma prateleira de caixas numeradas; cada caixa é um índice"
   ]
  },
  {
   "cell_type": "markdown",
   "id": "73d3894b",
   "metadata": {},
   "source": [
    "Lista você pode inserir, percorrer e remover\n",
    "\n",
    "Indexação -> Acessar pelo indice\n",
    "Fatiamento -> sublistas\n",
    "Iteração -> Percorrer\n",
    "Mutabilidade -> Alterar depois de criada"
   ]
  },
  {
   "cell_type": "code",
   "execution_count": 2,
   "id": "841b7d71",
   "metadata": {},
   "outputs": [
    {
     "name": "stdout",
     "output_type": "stream",
     "text": [
      "Maçã\n",
      "Banana\n",
      "Laranja\n"
     ]
    }
   ],
   "source": [
    "frutas = [\"Maçã\", \"Banana\", \"Laranja\"]\n",
    "for fruta in frutas:\n",
    "    print(fruta)"
   ]
  },
  {
   "cell_type": "code",
   "execution_count": null,
   "id": "fc5d2050",
   "metadata": {},
   "outputs": [
    {
     "name": "stdout",
     "output_type": "stream",
     "text": [
      "1\n",
      "1\n",
      "1\n",
      "1\n",
      "1\n"
     ]
    }
   ],
   "source": [
    "lista = [1,2,3,4,5]\n",
    "for item in lista:\n",
    "    print(item)"
   ]
  },
  {
   "cell_type": "markdown",
   "id": "bee14d4a",
   "metadata": {},
   "source": [
    "Lista com while"
   ]
  },
  {
   "cell_type": "code",
   "execution_count": 7,
   "id": "8cad1a39",
   "metadata": {},
   "outputs": [
    {
     "name": "stdout",
     "output_type": "stream",
     "text": [
      "Maçã\n",
      "Banana\n",
      "Laranja\n"
     ]
    }
   ],
   "source": [
    "frutas = [\"Maçã\", \"Banana\", \"Laranja\"] \n",
    "i = 0\n",
    "while i < len(frutas):\n",
    "    print(frutas[i])\n",
    "    i += 1"
   ]
  },
  {
   "cell_type": "code",
   "execution_count": 8,
   "id": "cdd802fb",
   "metadata": {},
   "outputs": [
    {
     "name": "stdout",
     "output_type": "stream",
     "text": [
      "1\n",
      "2\n",
      "3\n",
      "4\n",
      "5\n"
     ]
    }
   ],
   "source": [
    "lista = [1,2,3,4,5]\n",
    "i = 0\n",
    "while i < len(lista):\n",
    "    print(lista[i])\n",
    "    i += 1"
   ]
  },
  {
   "cell_type": "markdown",
   "id": "4a257820",
   "metadata": {},
   "source": [
    "Lista com entrada de elementos"
   ]
  },
  {
   "cell_type": "code",
   "execution_count": 14,
   "id": "dcaf8bb6",
   "metadata": {},
   "outputs": [
    {
     "name": "stdout",
     "output_type": "stream",
     "text": [
      "\n",
      "lista criada: [4, 5, 6]\n"
     ]
    }
   ],
   "source": [
    "numeros = []\n",
    "quantidade = int(input(\"Quantos números você quer colocar na lista: \"))\n",
    "\n",
    "for i in range(quantidade):\n",
    "    numero = int(input(f\"Coloque o {i + 1}° número aqui: \"))\n",
    "    numeros.append(numero)\n",
    "\n",
    "print(f\"\\nlista criada: {numeros}\")\n"
   ]
  },
  {
   "cell_type": "markdown",
   "id": "be004c52",
   "metadata": {},
   "source": [
    "Crie um algoritmo que simule o cadastro para 5 clientes. Solicite nome, idade e sexto. Utilize estrutura de repetição while para desenvolver o algoritmo"
   ]
  },
  {
   "cell_type": "code",
   "execution_count": 15,
   "id": "5111f34e",
   "metadata": {},
   "outputs": [
    {
     "name": "stdout",
     "output_type": "stream",
     "text": [
      "Junior 18 M\n",
      "Jose 18 M\n",
      "Claudio 18 M\n",
      "Craudinho 25 M\n",
      "Zé 27 M\n"
     ]
    }
   ],
   "source": [
    "nomes = []\n",
    "idades = []\n",
    "sexos = []\n",
    "\n",
    "i = 0\n",
    "j = 0\n",
    "\n",
    "while i < 5:\n",
    "    nome = input(\"Qual é o seu nome: \")\n",
    "    nomes.append(nome)\n",
    "    idade = input(\"Qual é a sua idade: \")\n",
    "    idades.append(idade)\n",
    "    sexo = input(\"Qual é o seu sexo: \")\n",
    "    sexos.append(sexo)\n",
    "    i += 1\n",
    "\n",
    "while j < 5:\n",
    "    print(nomes[j], idades[j], sexos[j])\n",
    "    j += 1\n"
   ]
  }
 ],
 "metadata": {
  "kernelspec": {
   "display_name": "base",
   "language": "python",
   "name": "python3"
  },
  "language_info": {
   "codemirror_mode": {
    "name": "ipython",
    "version": 3
   },
   "file_extension": ".py",
   "mimetype": "text/x-python",
   "name": "python",
   "nbconvert_exporter": "python",
   "pygments_lexer": "ipython3",
   "version": "3.13.5"
  }
 },
 "nbformat": 4,
 "nbformat_minor": 5
}
