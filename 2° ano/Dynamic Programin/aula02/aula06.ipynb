{
 "cells": [
  {
   "cell_type": "markdown",
   "id": "64d43471",
   "metadata": {},
   "source": [
    "Pilha"
   ]
  },
  {
   "cell_type": "markdown",
   "id": "fed9fd95",
   "metadata": {},
   "source": [
    "- Push -> pilha.append(x)\n",
    "- Pop -> pilha.pop()\n",
    "- peek[topo] -> pilha[-1]"
   ]
  },
  {
   "cell_type": "markdown",
   "id": "e0aa2dbe",
   "metadata": {},
   "source": [
    "- A pilha é eficiente porque não precisa deslocar elementos (diferente da fila com pop(0));\n",
    "- Todas as operações acontecem no topo (final da lista)\n",
    "- Isso garante que a pilha tenha custo O(1) para as operações principais"
   ]
  },
  {
   "cell_type": "code",
   "execution_count": 1,
   "id": "9b5b67eb",
   "metadata": {},
   "outputs": [
    {
     "name": "stdout",
     "output_type": "stream",
     "text": [
      "Pilha atual: ['a']\n",
      "Pilha atual: ['a', 'a']\n",
      "Pilha atual: ['a', 'a', 'a']\n",
      "\n",
      "Topo da pilha (peek):  a\n",
      "Removido a\n",
      "Pilha atual: ['a', 'a']\n",
      "Removido a\n",
      "Pilha atual: ['a']\n",
      "Removido a\n",
      "Pilha atual: []\n",
      "\n",
      "Pilha final:  []\n"
     ]
    }
   ],
   "source": [
    "#LIFO\n",
    "\n",
    "pilha = []\n",
    "\n",
    "for i in range(3):\n",
    "    valor = input(f\"Digite o valor {i + 1}: \")\n",
    "    pilha.append(valor)\n",
    "    print(\"Pilha atual:\", pilha)\n",
    "\n",
    "print(\"\\nTopo da pilha (peek): \", pilha[-1])\n",
    "\n",
    "while len(pilha) > 0:\n",
    "    removido = pilha.pop()\n",
    "    print(f\"Removido {removido}\")\n",
    "    print(\"Pilha atual:\", pilha)\n",
    "print(\"\\nPilha final: \", pilha)"
   ]
  },
  {
   "cell_type": "code",
   "execution_count": null,
   "id": "a7dc8580",
   "metadata": {},
   "outputs": [
    {
     "name": "stdout",
     "output_type": "stream",
     "text": [
      "Pilha:  ['A', 'B', 'C', 'D', 'E']\n"
     ]
    }
   ],
   "source": [
    "pilha = [\"A\", \"B\", \"C\", \"D\", \"E\"]\n",
    "\n",
    "\n",
    "def empilhar():\n",
    "    pilha.append(valor)\n",
    "    print(\"Empilhado:\" + str(valor))\n",
    "def desempilhar():\n",
    "    if pilha:\n",
    "        valor = pilha.pop()\n",
    "        print(\"Desempilhando: \", valor)\n",
    "    else:\n",
    "        print(\"Pilha vazia\")\n",
    "def topo():\n",
    "    if pilha:\n",
    "        print(\"Topo: \", pilha[-1])\n",
    "    else:\n",
    "        print(\"Pilha vazia\")\n",
    "def mostrarPilha():\n",
    "    print(\"Pilha: \", pilha)\n",
    "            \n",
    "escolha = 4\n",
    "\n",
    "match escolha:\n",
    "    case 1:\n",
    "        empilhar()\n",
    "    case 2: \n",
    "        desempilhar()\n",
    "    case 3:\n",
    "        topo()\n",
    "    case 4:\n",
    "        mostrarPilha()\n"
   ]
  }
 ],
 "metadata": {
  "kernelspec": {
   "display_name": "base",
   "language": "python",
   "name": "python3"
  },
  "language_info": {
   "codemirror_mode": {
    "name": "ipython",
    "version": 3
   },
   "file_extension": ".py",
   "mimetype": "text/x-python",
   "name": "python",
   "nbconvert_exporter": "python",
   "pygments_lexer": "ipython3",
   "version": "3.13.5"
  }
 },
 "nbformat": 4,
 "nbformat_minor": 5
}
