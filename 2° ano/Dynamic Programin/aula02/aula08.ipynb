{
 "cells": [
  {
   "cell_type": "markdown",
   "id": "c71d5ca1",
   "metadata": {},
   "source": [
    "Busca Binária"
   ]
  },
  {
   "cell_type": "markdown",
   "id": "050d8e42",
   "metadata": {},
   "source": [
    "- O negócio é dividir o problema em menos passo, começando sempre pelo meio da lista (Mas é necessário ordenar a lista para que a busca binária funcione)\n",
    "- Se o valor for maior que o buscado repetimos a busca na metade da ESQUERDA\n",
    "- Se for menor repetimos a busca pela metade da direita\n",
    "- Melhor caso: O(1); Pior caso: O(log n)"
   ]
  },
  {
   "cell_type": "markdown",
   "id": "0bba848d",
   "metadata": {},
   "source": [
    "Passo a passo\n",
    "- Compare o valor do meio com o valor buscado\n",
    "- Se for igual -> você achou\n",
    "- Se for menor -> continue na metade esquerda\n",
    "- Se for maior -> continua na metade direita"
   ]
  },
  {
   "cell_type": "markdown",
   "id": "f351d2e2",
   "metadata": {},
   "source": [
    "Modelo de teste de mesa"
   ]
  },
  {
   "cell_type": "markdown",
   "id": "0672ae80",
   "metadata": {},
   "source": [
    "```\n",
    "- Passo |Inicio |Fim  |Meio |lista[meio] | valor | Ação/atualização      |   \n",
    "- 1     |   0   |  9  |  4  |     16     |   23  | 23 > 16 -> inicio = 5 |\n",
    "- 2     |   5   |  9  |  7  |     56     |   23  | 23 < 56 -> fim = 6    |\n",
    "- 3     |   5   |  6  |  5  |     23     |   23  | Achou! Retorna 5      |\n",
    "```"
   ]
  },
  {
   "cell_type": "code",
   "execution_count": 11,
   "id": "798688cc",
   "metadata": {},
   "outputs": [
    {
     "name": "stdout",
     "output_type": "stream",
     "text": [
      "O valor encontrado na posição 5\n"
     ]
    }
   ],
   "source": [
    "def buscaBinaria(lista, valor):\n",
    "    inicio = 0\n",
    "    fim = len(lista) - 1\n",
    "\n",
    "    while inicio <= fim:\n",
    "        meio = (inicio + fim) // 2\n",
    "        if lista[meio] == valor:\n",
    "            return meio\n",
    "        elif lista[meio] < valor:\n",
    "            inicio = meio + 1\n",
    "        else:\n",
    "            fim = meio - 1\n",
    "    return -1\n",
    "\n",
    "numeros = [2, 5, 8, 12, 16, 23, 38, 56, 72, 91]\n",
    "resultado = buscaBinaria(numeros, 23)\n",
    "\n",
    "if resultado != -1:\n",
    "    print(f\"O valor encontrado na posição {resultado}\")\n",
    "else:\n",
    "    print(\"Valor não encontrado\")"
   ]
  },
  {
   "cell_type": "code",
   "execution_count": 12,
   "id": "0e11305b",
   "metadata": {},
   "outputs": [
    {
     "name": "stdout",
     "output_type": "stream",
     "text": [
      "O valor encontrado na posição 3\n"
     ]
    }
   ],
   "source": [
    "def buscaBinaria(numeros, numeroBuscado):\n",
    "    inicio = 0\n",
    "    fim = len(numeros) - 1\n",
    "    while inicio <= fim:\n",
    "        meio = (inicio + fim) // 2\n",
    "        if numeros[meio] == numeroBuscado:\n",
    "            return meio\n",
    "        elif numeros[meio] < numeroBuscado:\n",
    "            inicio = meio + 1\n",
    "        else:\n",
    "            fim = meio - 1\n",
    "    return -1\n",
    "\n",
    "\n",
    "numeros = []\n",
    "for i in range(5):\n",
    "    numeros.append(int(input(\"Escreva 5 números inteiros e ordenados (menor para o maior): \")))\n",
    "\n",
    "numeroBuscado = int(input(\"Escolha um número para ser buscado: \"))\n",
    "\n",
    "resultado = buscaBinaria(numeros, numeroBuscado)\n",
    "\n",
    "if resultado != -1:\n",
    "    print(f\"O valor encontrado na posição {resultado}\")\n",
    "else:\n",
    "    print(\"Valor não encontrado\")\n",
    "\n"
   ]
  }
 ],
 "metadata": {
  "kernelspec": {
   "display_name": "base",
   "language": "python",
   "name": "python3"
  },
  "language_info": {
   "codemirror_mode": {
    "name": "ipython",
    "version": 3
   },
   "file_extension": ".py",
   "mimetype": "text/x-python",
   "name": "python",
   "nbconvert_exporter": "python",
   "pygments_lexer": "ipython3",
   "version": "3.13.5"
  }
 },
 "nbformat": 4,
 "nbformat_minor": 5
}
