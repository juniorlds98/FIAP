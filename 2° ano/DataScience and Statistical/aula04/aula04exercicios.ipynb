{
 "cells": [
  {
   "cell_type": "code",
   "execution_count": 2,
   "id": "9214508b",
   "metadata": {},
   "outputs": [],
   "source": [
    "import pandas as pd\n",
    "import numpy as np"
   ]
  },
  {
   "cell_type": "code",
   "execution_count": null,
   "id": "2d760718",
   "metadata": {},
   "outputs": [],
   "source": [
    "np.random.seed(42)\n",
    "n = 5000 #Quantidade de registros\n",
    "\n",
    "df = pd.DataFrame({\n",
    "    \"ID_Transacao\": range(1, n+1),\n",
    "    \"Valor\": np.random.uniform(10, 10000, n),\n",
    "    \"Tipo_transacao\": np.random.choice([\"Compra\", \"Transferencia\", \"Pagamento\"], n),\n",
    "    \"Localizacao\": np.random.choice([\"SP\", \"RJ\", \"MG\", \"RS\", \"BA\", \"PR\"], n),\n",
    "    \"Horario\": np.random.choice([\"Manha\", \"Tarde\", \"Noite\", \"Madrugada\"], n),\n",
    "    \"Fraude\": np.random.choice([0, 1], n, p = [0.7, 0.3]) \n",
    "})\n",
    "\n",
    "df.head()"
   ]
  },
  {
   "cell_type": "markdown",
   "id": "b88b9c48",
   "metadata": {},
   "source": [
    "1. Realizar uma amostragem aleatoria simples com 500 registros"
   ]
  },
  {
   "cell_type": "code",
   "execution_count": null,
   "id": "d975eb62",
   "metadata": {},
   "outputs": [],
   "source": [
    "amostraSimples = df.sample(n = 500, random_state=42)\n",
    "amostraSimples.head()"
   ]
  },
  {
   "cell_type": "markdown",
   "id": "c2bf9995",
   "metadata": {},
   "source": [
    "2. Criar uma amostragem sistemática escolhendo cada 10° registro"
   ]
  },
  {
   "cell_type": "code",
   "execution_count": null,
   "id": "a9a4fdda",
   "metadata": {},
   "outputs": [],
   "source": [
    "passo = 10\n",
    "inicio = np.random.randint(0, passo)\n",
    "amostraSistematica = df.iloc[inicio::passo, :]\n",
    "amostraSistematica.head()"
   ]
  },
  {
   "cell_type": "markdown",
   "id": "75c01ea2",
   "metadata": {},
   "source": [
    "3. Dividir a base em estratos por localização e selecionar amostras proporcionais"
   ]
  },
  {
   "cell_type": "code",
   "execution_count": null,
   "id": "4f3fbe85",
   "metadata": {},
   "outputs": [],
   "source": [
    "from sklearn.model_selection import train_test_split\n",
    "amostraEstratificada, _ = train_test_split(df, test_size=0.5, stratify=df[\"Localizacao\"])\n",
    "amostraEstratificada.head()"
   ]
  },
  {
   "cell_type": "markdown",
   "id": "587d25da",
   "metadata": {},
   "source": [
    "4. Selecionar aleatoriamente transações fraudulentas e comparar com transações não fraudulentas"
   ]
  },
  {
   "cell_type": "code",
   "execution_count": null,
   "id": "278088f2",
   "metadata": {},
   "outputs": [],
   "source": [
    "transacoesFraudulentas = df.groupby(\"Fraude\").get_group(1).sample(5)\n",
    "transacoesNaoFraudulentas = df.groupby(\"Fraude\").get_group(0).sample(5)\n",
    "\n",
    "transacoesFraudulentas.head()\n"
   ]
  },
  {
   "cell_type": "code",
   "execution_count": null,
   "id": "e17324d8",
   "metadata": {},
   "outputs": [],
   "source": [
    "transacoesNaoFraudulentas.head()"
   ]
  },
  {
   "cell_type": "markdown",
   "id": "7a84c95c",
   "metadata": {},
   "source": [
    "5. Criar um subconjunto de dados com base em amostragem por julgamento para transações acima de R$ 5.000,00 reais"
   ]
  },
  {
   "cell_type": "code",
   "execution_count": null,
   "id": "d32f081e",
   "metadata": {},
   "outputs": [],
   "source": [
    "transacoesValor = df[(df[\"Valor\"] > 5000)]\n",
    "transacoesValor.head()"
   ]
  },
  {
   "cell_type": "markdown",
   "id": "6a16e7a4",
   "metadata": {},
   "source": [
    "6. Aplicar amostragem por conglomerados dividindo os dados por tipo de transação e sortando um grupo"
   ]
  },
  {
   "cell_type": "code",
   "execution_count": null,
   "id": "1e5d4cd2",
   "metadata": {},
   "outputs": [],
   "source": [
    "clusters = df.groupby(\"Tipo_transacao\")\n",
    "clustersPagamento = clusters.get_group(\"Pagamento\")\n",
    "amostraDePagamentos = clustersPagamento.sample(10)\n",
    "clustersTransferencia = clusters.get_group(\"Transferencia\")\n",
    "amostraDeTransferencia = clustersTransferencia.sample(10)\n",
    "clustersCompra = clusters.get_group(\"Compra\")\n",
    "amostraDeCompras = clustersCompra.sample(10)\n",
    "\n",
    "amostraDeCompras.head()\n",
    "amostraDeTransferencia.head()\n",
    "amostraDePagamentos.head()"
   ]
  },
  {
   "cell_type": "markdown",
   "id": "14357750",
   "metadata": {},
   "source": [
    "7. Executar uma amostragem por conveniência pegando os 300 primeiros registros"
   ]
  },
  {
   "cell_type": "code",
   "execution_count": null,
   "id": "89a55f11",
   "metadata": {},
   "outputs": [],
   "source": [
    "amostraConveniencia = df.head(300)\n",
    "amostraConveniencia.head()"
   ]
  },
  {
   "cell_type": "markdown",
   "id": "405571af",
   "metadata": {},
   "source": [
    "8. Criar uma amostragem por cotas considerando o tipo de transação e localização"
   ]
  },
  {
   "cell_type": "code",
   "execution_count": null,
   "id": "ae41fa41",
   "metadata": {},
   "outputs": [],
   "source": [
    "amostraCotas = df.groupby([\"Tipo_transacao\", \"Localizacao\"]).apply(lambda x: x.sample(n=min(len(x), 10), random_state=1)).reset_index(drop=True)\n",
    "amostraCotas.head()"
   ]
  },
  {
   "cell_type": "markdown",
   "id": "d50d9229",
   "metadata": {},
   "source": [
    "9. Comparar os resultados das amostras aleatórias e estratificada e explicar as diferenças"
   ]
  },
  {
   "cell_type": "code",
   "execution_count": null,
   "id": "ac55c6c5",
   "metadata": {},
   "outputs": [],
   "source": [
    "#Amostragem aleatoria\n",
    "amostraAleatoria = df.sample(n = 100, random_state=42)\n",
    "amostraAleatoria.head()"
   ]
  },
  {
   "cell_type": "code",
   "execution_count": null,
   "id": "5829bf20",
   "metadata": {},
   "outputs": [],
   "source": [
    "#Amostra estratificada por cotas\n",
    "\n",
    "amostraEstratificada = df.groupby([\"Tipo_transacao\", \"Localizacao\"]).apply(lambda x: x.sample(n=min(len(x), 5), random_state=42)).reset_index(drop=True)\n",
    "amostraEstratificada.head()"
   ]
  },
  {
   "cell_type": "code",
   "execution_count": null,
   "id": "9c820d1c",
   "metadata": {},
   "outputs": [],
   "source": [
    "#Distribuição de tipo transação\n",
    "print(\"Aleatória:\")\n",
    "print(amostraAleatoria[\"Tipo_transacao\"].value_counts(normalize=True))\n",
    "\n",
    "print(\"\\nEstratificada:\")\n",
    "print(amostraEstratificada[\"Tipo_transacao\"].value_counts(normalize=True))"
   ]
  },
  {
   "cell_type": "code",
   "execution_count": null,
   "id": "ef3e3847",
   "metadata": {},
   "outputs": [],
   "source": [
    "#Distribuição de localização\n",
    "\n",
    "print(\"Aleatória:\")\n",
    "print(amostraAleatoria[\"Localizacao\"].value_counts(normalize=True))\n",
    "\n",
    "print(\"\\nEstratificada:\")\n",
    "print(amostraEstratificada[\"Localizacao\"].value_counts(normalize=True))"
   ]
  },
  {
   "cell_type": "code",
   "execution_count": null,
   "id": "0b1efcb7",
   "metadata": {},
   "outputs": [],
   "source": [
    "#Comparar médias de valor e taxa de fraude\n",
    "\n",
    "print(\"Média do valor (aleatória):\", amostraAleatoria[\"Valor\"].mean())\n",
    "print(\"Média do valor (estratificada):\", amostraEstratificada[\"Valor\"].mean())\n",
    "\n",
    "print(\"Taxa de fraude (aleatória):\", amostraAleatoria[\"Fraude\"].mean())\n",
    "print(\"Taxa de fraude (estratificada):\", amostraEstratificada[\"Fraude\"].mean())"
   ]
  }
 ],
 "metadata": {
  "kernelspec": {
   "display_name": "Python 3",
   "language": "python",
   "name": "python3"
  },
  "language_info": {
   "codemirror_mode": {
    "name": "ipython",
    "version": 3
   },
   "file_extension": ".py",
   "mimetype": "text/x-python",
   "name": "python",
   "nbconvert_exporter": "python",
   "pygments_lexer": "ipython3",
   "version": "3.11.9"
  }
 },
 "nbformat": 4,
 "nbformat_minor": 5
}
