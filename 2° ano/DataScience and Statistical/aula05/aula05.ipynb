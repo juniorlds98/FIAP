{
 "cells": [
  {
   "cell_type": "markdown",
   "id": "e27f549d",
   "metadata": {},
   "source": [
    "Descritiva Estimativas, boxplot"
   ]
  },
  {
   "cell_type": "code",
   "execution_count": null,
   "id": "76be26ef",
   "metadata": {},
   "outputs": [],
   "source": [
    "#Bibliotecas\n",
    "import numpy as np\n",
    "import scipy.stats as stats\n",
    "import pandas as pd"
   ]
  },
  {
   "cell_type": "code",
   "execution_count": 36,
   "id": "f6be990a",
   "metadata": {},
   "outputs": [],
   "source": [
    "#Dados exemplo\n",
    "\n",
    "dados = [10, 20, 30, 40, 50, 100, 150, 200, 300, 500]"
   ]
  },
  {
   "cell_type": "code",
   "execution_count": null,
   "id": "33cae9c4",
   "metadata": {},
   "outputs": [
    {
     "data": {
      "text/plain": [
       "np.float64(140.0)"
      ]
     },
     "execution_count": 11,
     "metadata": {},
     "output_type": "execute_result"
    }
   ],
   "source": [
    "# Média (mean)\n",
    "\n",
    "media = np.mean(dados)\n",
    "media"
   ]
  },
  {
   "cell_type": "code",
   "execution_count": 15,
   "id": "58b3bf80",
   "metadata": {},
   "outputs": [
    {
     "name": "stdout",
     "output_type": "stream",
     "text": [
      "Media ponderada: 202.94\n"
     ]
    }
   ],
   "source": [
    "# Média Ponderada (wighted mean)\n",
    "pesos = [1, 1, 1, 1, 1, 2, 2, 2, 3, 3] # Pesos de cada elemento\n",
    "mediaPonderada = np.average(dados, weights=pesos)\n",
    "print(f\"Media ponderada: {mediaPonderada:.2f}\")"
   ]
  },
  {
   "cell_type": "code",
   "execution_count": null,
   "id": "82318403",
   "metadata": {},
   "outputs": [],
   "source": [
    "#Mediana (median)\n",
    "mediana = np.median(dados)"
   ]
  },
  {
   "cell_type": "code",
   "execution_count": null,
   "id": "41fe627b",
   "metadata": {},
   "outputs": [
    {
     "name": "stdout",
     "output_type": "stream",
     "text": [
      "150\n"
     ]
    }
   ],
   "source": [
    "#Mediana ponderada (wighted median) - recebe o argumento dataframe (dados, pesos) //ordena o df do menor para o maior // soma cumulativa // divide por 2 para encontrar o valor do meio // localizar o primeiro valor\n",
    "def mediaPonderada(dados, pesos):\n",
    "    dadosOrdenados, pesosOrdenados = zip(*sorted(zip(dados, pesos)))\n",
    "    somaPesos = np.cumsum(pesosOrdenados) #Colocando peso nos itens, de acordo com o cenário que quiser\n",
    "    return dadosOrdenados[np.searchsorted(somaPesos, somaPesos[-1]/2)]\n",
    "mediaPonderadaValor = mediaPonderada(dados, pesos)\n",
    "print(mediaPonderadaValor)"
   ]
  },
  {
   "cell_type": "code",
   "execution_count": 17,
   "id": "ec24e50c",
   "metadata": {},
   "outputs": [
    {
     "name": "stdout",
     "output_type": "stream",
     "text": [
      "111.25\n"
     ]
    }
   ],
   "source": [
    "#Media aparada (trimmed mean) - Remove os 10% menores e maiores de valores\n",
    "mediaAparada = stats.trim_mean(dados, proportiontocut=0.1)\n",
    "print(mediaAparada)"
   ]
  },
  {
   "cell_type": "code",
   "execution_count": null,
   "id": "bd27dd68",
   "metadata": {},
   "outputs": [
    {
     "name": "stdout",
     "output_type": "stream",
     "text": [
      "155.0\n"
     ]
    }
   ],
   "source": [
    "#IQR (Interquartile Range) - Intervalo Interquantil É sempre cortado pela mediana\n",
    "#1° quartil = 25%\n",
    "#2° quartil = 50%\n",
    "#3° quartil = 75%\n",
    "#Os desvios padrões são o quartil n°1 e o quartil n°3\n",
    "p25, p75 = np.percentile(dados, [25, 75])\n",
    "iqr = p75 - p25\n",
    "print(iqr)"
   ]
  },
  {
   "cell_type": "code",
   "execution_count": null,
   "id": "53fd7144",
   "metadata": {},
   "outputs": [
    {
     "name": "stdout",
     "output_type": "stream",
     "text": [
      "[500]\n"
     ]
    }
   ],
   "source": [
    "#Detectação de outliers com IQR\n",
    "limiteInferior = p25 - 1.5 * iqr #O 1.5 é a mediana + o limite superior\n",
    "limiteSuperior = p75 + 1.5 * iqr\n",
    "outliers = [x for x in dados if x < limiteInferior or x > limiteSuperior]\n",
    "print(outliers)"
   ]
  },
  {
   "cell_type": "code",
   "execution_count": 21,
   "id": "b001c3f5",
   "metadata": {},
   "outputs": [
    {
     "name": "stdout",
     "output_type": "stream",
     "text": [
      "22200.0\n"
     ]
    }
   ],
   "source": [
    "#Variância (varience)\n",
    "\n",
    "variancia = np.var(dados)\n",
    "print(variancia)"
   ]
  },
  {
   "cell_type": "code",
   "execution_count": null,
   "id": "831adb60",
   "metadata": {},
   "outputs": [
    {
     "name": "stdout",
     "output_type": "stream",
     "text": [
      "157.05625319186328\n"
     ]
    }
   ],
   "source": [
    "#Desvio padrão amostral (sample standard deviation)\n",
    "desvioPadraoAmostral = np.std(dados, ddof=1) #ddof = 1 -> amostral mostrando o grau de confiabilidade que eu quero (O 1 pode váriar, mas no máximo ele pode ser 1) \n",
    "print(desvioPadraoAmostral)"
   ]
  },
  {
   "cell_type": "code",
   "execution_count": 23,
   "id": "4318f5d4",
   "metadata": {},
   "outputs": [
    {
     "name": "stdout",
     "output_type": "stream",
     "text": [
      "148.9966442575134\n"
     ]
    }
   ],
   "source": [
    "#Desvio padrão populacional (population standard deviation)\n",
    "\n",
    "desvioPadraoPopulacional = np.std(dados, ddof = 0) #ddof = 0 -> populacional\n",
    "print(desvioPadraoPopulacional)"
   ]
  },
  {
   "cell_type": "code",
   "execution_count": 24,
   "id": "34a9f570",
   "metadata": {},
   "outputs": [
    {
     "name": "stdout",
     "output_type": "stream",
     "text": [
      "490\n"
     ]
    }
   ],
   "source": [
    "#Amplitude (range)\n",
    "amplitude = np.max(dados) - np.min(dados)\n",
    "print(amplitude)"
   ]
  },
  {
   "cell_type": "code",
   "execution_count": 39,
   "id": "9f0c1ed3",
   "metadata": {},
   "outputs": [
    {
     "name": "stdout",
     "output_type": "stream",
     "text": [
      "10\n"
     ]
    }
   ],
   "source": [
    "#Estatística ordinais - moda\n",
    "moda = stats.mode(dados, keepdims=True).mode[0]\n",
    "print(moda)"
   ]
  },
  {
   "cell_type": "code",
   "execution_count": 27,
   "id": "6c7efebf",
   "metadata": {},
   "outputs": [
    {
     "name": "stdout",
     "output_type": "stream",
     "text": [
      "319.99999999999994\n"
     ]
    }
   ],
   "source": [
    "#Percentil (exemplo: 90° percentil)\n",
    "percentil90 = np.percentile(dados, 90)\n",
    "print(percentil90)"
   ]
  },
  {
   "cell_type": "code",
   "execution_count": 32,
   "id": "b556f32f",
   "metadata": {},
   "outputs": [
    {
     "name": "stdout",
     "output_type": "stream",
     "text": [
      "32.5\n"
     ]
    }
   ],
   "source": [
    "#Quantil (exemplo: quantil 0.25 = Q1)\n",
    "quantil25 = np.quantile(dados, 0.25) # 0.25 primeiro quartil, 0.50 segundo quartil, 0.75 terceiro quartil\n",
    "print(quantil25)"
   ]
  },
  {
   "cell_type": "code",
   "execution_count": 33,
   "id": "7f55276c",
   "metadata": {},
   "outputs": [
    {
     "name": "stdout",
     "output_type": "stream",
     "text": [
      "60.0\n"
     ]
    }
   ],
   "source": [
    "#Desvio absoluto mediano da mediana (MAD)\n",
    "mad = stats.median_abs_deviation(dados)\n",
    "print(mad)"
   ]
  },
  {
   "cell_type": "code",
   "execution_count": null,
   "id": "baf40534",
   "metadata": {},
   "outputs": [],
   "source": [
    "#Valor esperado (EV) - Esperança matemática\n",
    "\n",
    "valores = np.array([1, 2, 3, 4, 5])\n",
    "probabilidades = np.array([0.1, 0.2, 0.3, 0.4, 0.5])"
   ]
  }
 ],
 "metadata": {
  "kernelspec": {
   "display_name": "base",
   "language": "python",
   "name": "python3"
  },
  "language_info": {
   "codemirror_mode": {
    "name": "ipython",
    "version": 3
   },
   "file_extension": ".py",
   "mimetype": "text/x-python",
   "name": "python",
   "nbconvert_exporter": "python",
   "pygments_lexer": "ipython3",
   "version": "3.13.5"
  }
 },
 "nbformat": 4,
 "nbformat_minor": 5
}
