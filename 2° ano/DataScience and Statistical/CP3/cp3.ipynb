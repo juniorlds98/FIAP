{
 "cells": [
  {
   "cell_type": "markdown",
   "id": "4cf2fbc2",
   "metadata": {},
   "source": [
    "#### Nome: José Claudio da Silva Junior RM: 559680"
   ]
  },
  {
   "cell_type": "code",
   "execution_count": null,
   "id": "9ac55e76",
   "metadata": {},
   "outputs": [],
   "source": [
    "import pandas as pd\n",
    "import numpy as np\n"
   ]
  },
  {
   "cell_type": "code",
   "execution_count": 88,
   "id": "e7c4cb2c",
   "metadata": {},
   "outputs": [],
   "source": [
    "#Gerar dados ficticios\n",
    "np.random.seed(41)\n",
    "nomes = [\n",
    "    \"Ana\", \"Bruno\", \"Carla\", \"Daniel\", \"Eduardo\", \"Fernanda\", \"Gabriel\", \"Helena\",\n",
    "    \"Igor\", \"Joana\", \"Karla\", \"Lucas\", \"Mariana\", \"Natália\", \"Otávio\", \"Paula\",\n",
    "    \"Rafael\", \"Sofia\", \"Thiago\", \"Viviane\", \"Robson\"\n",
    "]\n",
    "\n",
    "dados = pd.DataFrame({\n",
    "    \"Alunos\":np.random.choice(nomes, size=20, replace = False),\n",
    "    \"Notas\":np.random.rand(20)*10\n",
    "})\n",
    "\n",
    "#Formatação dos dados\n",
    "pd.options.display.float_format = \"{:.2f}\".format"
   ]
  },
  {
   "cell_type": "code",
   "execution_count": null,
   "id": "0a7198de",
   "metadata": {},
   "outputs": [
    {
     "name": "stdout",
     "output_type": "stream",
     "text": [
      "      Alunos  Notas\n",
      "0      Lucas   4.60\n",
      "1     Thiago   6.97\n",
      "2      Paula   8.74\n",
      "3    Gabriel   5.13\n",
      "4    Eduardo   2.39\n",
      "5     Robson   0.37\n",
      "6      Sofia   1.33\n",
      "7    Natália   3.96\n",
      "8     Otávio   7.24\n",
      "9       Igor   5.07\n",
      "10     Karla   6.84\n",
      "11  Fernanda   5.68\n",
      "12    Helena   4.23\n",
      "13     Joana   2.46\n",
      "14   Viviane   6.97\n",
      "15     Bruno   1.10\n",
      "16    Rafael   6.99\n",
      "17     Carla   9.48\n",
      "18   Mariana   6.23\n",
      "19    Daniel   3.25\n"
     ]
    }
   ],
   "source": [
    "print(dados)"
   ]
  },
  {
   "cell_type": "code",
   "execution_count": 41,
   "id": "2898d86b",
   "metadata": {},
   "outputs": [
    {
     "name": "stdout",
     "output_type": "stream",
     "text": [
      "40\n",
      "O tamanho do Dataframe é: (20, 2) linhas e colunas e 40 valores\n"
     ]
    }
   ],
   "source": [
    "df = dados\n",
    "print(dados.size)\n",
    "print(f\"O tamanho do Dataframe é: {dados.shape} linhas e colunas e {dados.size} valores\")"
   ]
  },
  {
   "cell_type": "code",
   "execution_count": 43,
   "id": "d3767505",
   "metadata": {},
   "outputs": [
    {
     "data": {
      "text/plain": [
       "count   20.00\n",
       "mean     4.95\n",
       "std      2.56\n",
       "min      0.37\n",
       "25%      3.06\n",
       "50%      5.10\n",
       "75%      6.97\n",
       "max      9.48\n",
       "Name: Notas, dtype: float64"
      ]
     },
     "execution_count": 43,
     "metadata": {},
     "output_type": "execute_result"
    }
   ],
   "source": [
    "dados[\"Notas\"].describe()"
   ]
  },
  {
   "cell_type": "code",
   "execution_count": 44,
   "id": "e645d477",
   "metadata": {},
   "outputs": [
    {
     "name": "stdout",
     "output_type": "stream",
     "text": [
      "    Alunos  Notas\n",
      "0    Lucas   4.60\n",
      "17   Carla   9.48\n",
      "15   Bruno   1.10\n",
      "1   Thiago   6.97\n",
      "8   Otávio   7.24\n"
     ]
    }
   ],
   "source": [
    "#Amostragem simples\n",
    "\n",
    "amostra = dados.sample(n=5, random_state=42)\n",
    "print(amostra)"
   ]
  },
  {
   "cell_type": "code",
   "execution_count": 46,
   "id": "00dfdf8b",
   "metadata": {},
   "outputs": [
    {
     "name": "stdout",
     "output_type": "stream",
     "text": [
      "A média das notas é: 4.95\n"
     ]
    }
   ],
   "source": [
    "#Calculo da média\n",
    "\n",
    "media = dados[\"Notas\"].mean()\n",
    "print(f\"A média das notas é: {media:.2f}\")"
   ]
  },
  {
   "cell_type": "code",
   "execution_count": null,
   "id": "17741629",
   "metadata": {},
   "outputs": [
    {
     "name": "stdout",
     "output_type": "stream",
     "text": [
      "A mediana das notas é: 5.10\n"
     ]
    }
   ],
   "source": [
    "#Calculo da mediana\n",
    "\n",
    "mediana = dados[\"Notas\"].median()\n",
    "print(f\"A mediana das notas é: {mediana:.2f}\")"
   ]
  },
  {
   "cell_type": "code",
   "execution_count": 53,
   "id": "f8f8b410",
   "metadata": {},
   "outputs": [
    {
     "name": "stdout",
     "output_type": "stream",
     "text": [
      "Não há moda, pois todos os valores são diferentes e não se repetem\n"
     ]
    }
   ],
   "source": [
    "#Calculo da moda\n",
    "moda = dados[\"Notas\"].mode()\n",
    "\n",
    "if len(moda) == len(dados):\n",
    "    print(\"Não há moda, pois todos os valores são diferentes e não se repetem\")\n",
    "else:\n",
    "    print(\"A moda das notas é: \", moda)"
   ]
  },
  {
   "cell_type": "code",
   "execution_count": 58,
   "id": "9f5ac9e5",
   "metadata": {},
   "outputs": [
    {
     "name": "stdout",
     "output_type": "stream",
     "text": [
      "Dispersão: 6.55\n"
     ]
    }
   ],
   "source": [
    "#Dispersão\n",
    "\n",
    "variancia = dados[\"Notas\"].var()\n",
    "print(f\"Dispersão: {variancia:.2f}\")"
   ]
  },
  {
   "cell_type": "code",
   "execution_count": 56,
   "id": "e043ed87",
   "metadata": {},
   "outputs": [
    {
     "name": "stdout",
     "output_type": "stream",
     "text": [
      "Desvio padrão: 2.56\n"
     ]
    }
   ],
   "source": [
    "#Desvio padrão\n",
    "desvio = dados[\"Notas\"].std()\n",
    "print(f\"Desvio padrão: {desvio:.2f}\")"
   ]
  },
  {
   "cell_type": "code",
   "execution_count": 61,
   "id": "abc5345c",
   "metadata": {},
   "outputs": [
    {
     "name": "stdout",
     "output_type": "stream",
     "text": [
      "Amplitude: 9.11\n"
     ]
    }
   ],
   "source": [
    "#Amplitude\n",
    "amplitude = dados[\"Notas\"].max() - dados[\"Notas\"].min()\n",
    "print(f\"Amplitude: {amplitude:.2f}\")"
   ]
  },
  {
   "cell_type": "code",
   "execution_count": 62,
   "id": "2b72431c",
   "metadata": {},
   "outputs": [
    {
     "name": "stdout",
     "output_type": "stream",
     "text": [
      "Quartil 1: 3.06\n",
      "Quartil 3: 6.97\n",
      "Intervalo interquartílico (IQR): 3.91\n"
     ]
    }
   ],
   "source": [
    "quartil1 = dados[\"Notas\"].quantile(0.25)\n",
    "quartil3 = dados[\"Notas\"].quantile(0.75)\n",
    "IQR = quartil3 - quartil1\n",
    "print(f\"Quartil 1: {quartil1:.2f}\")\n",
    "print(f\"Quartil 3: {quartil3:.2f}\")\n",
    "print(f\"Intervalo interquartílico (IQR): {IQR:.2f}\")"
   ]
  },
  {
   "cell_type": "markdown",
   "id": "49b6d6cc",
   "metadata": {},
   "source": [
    "#### Comparação entre amostras"
   ]
  },
  {
   "cell_type": "code",
   "execution_count": null,
   "id": "66d58690",
   "metadata": {},
   "outputs": [],
   "source": [
    "#Dados apresentados novamente\n",
    "\n",
    "print(dados)"
   ]
  },
  {
   "cell_type": "code",
   "execution_count": 91,
   "id": "0ddf6ff6",
   "metadata": {},
   "outputs": [
    {
     "name": "stdout",
     "output_type": "stream",
     "text": [
      "A media geral é 4.95\n"
     ]
    }
   ],
   "source": [
    "#Media geral\n",
    "\n",
    "mediaGeral = dados[\"Notas\"].mean()\n",
    "print(f\"A media geral é {mediaGeral:.2f}\")"
   ]
  },
  {
   "cell_type": "code",
   "execution_count": 92,
   "id": "5c34816d",
   "metadata": {},
   "outputs": [
    {
     "name": "stdout",
     "output_type": "stream",
     "text": [
      "A media é 5.07\n"
     ]
    }
   ],
   "source": [
    "amostra = dados[\"Notas\"].sample(n = 8, random_state = 42)\n",
    "mediaAmostra = amostra.mean()\n",
    "\n",
    "print(f\"A media é {mediaAmostra:.2f}\")"
   ]
  },
  {
   "cell_type": "code",
   "execution_count": 93,
   "id": "0a1cbd03",
   "metadata": {},
   "outputs": [
    {
     "name": "stdout",
     "output_type": "stream",
     "text": [
      "A diferença entre a média e a média geral é: 0.12\n"
     ]
    }
   ],
   "source": [
    "diferenca = mediaAmostra - mediaGeral\n",
    "print(f\"A diferença entre a média e a média geral é: {diferenca:.2f}\")"
   ]
  },
  {
   "cell_type": "code",
   "execution_count": null,
   "id": "4a348e8f",
   "metadata": {},
   "outputs": [],
   "source": [
    "#Classificação de categorias\n",
    "dados[\"Aprovacao\"] = [\"Insuficiente\" if nota <= 5 else \n",
    "                      \"Regular\" if 5 < nota <= 7 else \n",
    "                      \"Bom\" for nota in dados[\"Notas\"]]    "
   ]
  },
  {
   "cell_type": "code",
   "execution_count": 87,
   "id": "96d7c38d",
   "metadata": {},
   "outputs": [
    {
     "name": "stdout",
     "output_type": "stream",
     "text": [
      "     Alunos  Notas     Aprovacao\n",
      "0       Ana   7.45           Bom\n",
      "1    Daniel   3.98  Insuficiente\n",
      "2   Natália   6.08       Regular\n",
      "3     Carla   7.28           Bom\n",
      "4     Sofia   4.22  Insuficiente\n",
      "5     Bruno   3.94  Insuficiente\n",
      "6    Robson   2.32  Insuficiente\n",
      "7    Otávio   4.42  Insuficiente\n",
      "8   Natália   3.73  Insuficiente\n",
      "9    Daniel   5.84       Regular\n",
      "10   Daniel   1.00  Insuficiente\n",
      "11  Viviane   7.41           Bom\n",
      "12  Gabriel   0.83  Insuficiente\n",
      "13    Sofia   1.26  Insuficiente\n",
      "14    Joana   3.23  Insuficiente\n",
      "15   Robson   6.43       Regular\n",
      "16  Mariana   9.99           Bom\n",
      "17   Thiago   2.81  Insuficiente\n",
      "18    Carla   5.82       Regular\n",
      "19   Thiago   8.73           Bom\n"
     ]
    }
   ],
   "source": [
    "print(dados)"
   ]
  },
  {
   "cell_type": "markdown",
   "id": "b4bfad6f",
   "metadata": {},
   "source": [
    "#### Interpretação Final"
   ]
  },
  {
   "cell_type": "markdown",
   "id": "e8eaf944",
   "metadata": {},
   "source": [
    "###### A amostragem ela é importante para contextualização do problema, ela da uma oportunidade analitica rápida e eficaz para entender o que está acontecendo com a situação ao qual você está inserida sem precisar avaliar todos os dados. Ela abre campo para você trazer uma predição daquilo que pode estar por vir, então no caso que estamos inseridos, abre a oportunidade para entender motivação de notas, mapeamento de necessidades, aprimoramento de metodologias de ensino e muitas outras observações."
   ]
  }
 ],
 "metadata": {
  "kernelspec": {
   "display_name": "base",
   "language": "python",
   "name": "python3"
  },
  "language_info": {
   "codemirror_mode": {
    "name": "ipython",
    "version": 3
   },
   "file_extension": ".py",
   "mimetype": "text/x-python",
   "name": "python",
   "nbconvert_exporter": "python",
   "pygments_lexer": "ipython3",
   "version": "3.13.5"
  }
 },
 "nbformat": 4,
 "nbformat_minor": 5
}
