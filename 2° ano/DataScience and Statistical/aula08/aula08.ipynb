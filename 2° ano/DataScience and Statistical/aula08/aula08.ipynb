{
 "cells": [
  {
   "cell_type": "markdown",
   "id": "f42f618e",
   "metadata": {},
   "source": [
    "Aula 08"
   ]
  },
  {
   "cell_type": "code",
   "execution_count": null,
   "id": "6a81250b",
   "metadata": {},
   "outputs": [],
   "source": [
    "!pip install seaborn"
   ]
  },
  {
   "cell_type": "code",
   "execution_count": null,
   "id": "2746a63b",
   "metadata": {},
   "outputs": [],
   "source": [
    "import pandas as pd\n",
    "import numpy as np\n",
    "#Bibliotecas para gráficos\n",
    "import seaborn as sns\n",
    "import matplotlib.pyplot as plt"
   ]
  },
  {
   "cell_type": "code",
   "execution_count": 3,
   "id": "16f0a27a",
   "metadata": {},
   "outputs": [],
   "source": [
    "np.random.seed(41)\n",
    "dados = pd.DataFrame({\n",
    "    \"Variável_A\":np.random.rand(10)*10, #Variável aleatoria 1\n",
    "    \"Variável_B\":np.random.rand(10)*10, #Variável aleatoria 2\n",
    "    \"Variável_C\":np.random.rand(10)*10, #Variável aleatoria 3\n",
    "})"
   ]
  },
  {
   "cell_type": "code",
   "execution_count": 6,
   "id": "650f9592",
   "metadata": {},
   "outputs": [
    {
     "name": "stdout",
     "output_type": "stream",
     "text": [
      "   Variável_A  Variável_B  Variável_C\n",
      "0    2.509236    3.322599    6.082265\n",
      "1    0.460958    2.830336    7.284565\n",
      "2    6.768162    1.862823    4.217580\n",
      "3    0.434695    3.171105    3.939082\n",
      "4    1.164237    4.811687    2.322226\n",
      "5    6.038657    0.695205    4.416646\n",
      "6    1.909307    7.049826    3.730214\n",
      "7    6.685157    3.146769    5.836060\n",
      "8    9.174478    7.452824    1.000314\n",
      "9    4.187801    3.982128    7.413519\n"
     ]
    }
   ],
   "source": [
    "print(dados)"
   ]
  },
  {
   "cell_type": "code",
   "execution_count": 7,
   "id": "137fee1e",
   "metadata": {},
   "outputs": [
    {
     "name": "stdout",
     "output_type": "stream",
     "text": [
      "Coeficiente de correlação de Pearson (A e B): 0.04\n"
     ]
    }
   ],
   "source": [
    "correlacaoAB =  dados[\"Variável_A\"].corr(dados[\"Variável_B\"])\n",
    "print(f\"Coeficiente de correlação de Pearson (A e B): {correlacaoAB:.2f}\")"
   ]
  },
  {
   "cell_type": "code",
   "execution_count": null,
   "id": "3c4fa3ee",
   "metadata": {},
   "outputs": [
    {
     "name": "stdout",
     "output_type": "stream",
     "text": [
      "\n",
      "Matriz de correlação: \n",
      "            Variável_A  Variável_B  Variável_C\n",
      "Variável_A    1.000000    0.037999   -0.301291\n",
      "Variável_B    0.037999    1.000000   -0.512726\n",
      "Variável_C   -0.301291   -0.512726    1.000000\n"
     ]
    }
   ],
   "source": [
    "#Correlação entre todos os valores de todas as colunas\n",
    "matrizCorrelacao = dados.corr()\n",
    "print(\"\\nMatriz de correlação: \")\n",
    "print(matrizCorrelacao)"
   ]
  },
  {
   "cell_type": "code",
   "execution_count": 16,
   "id": "3e44b9a7",
   "metadata": {},
   "outputs": [
    {
     "data": {
      "image/png": "[encoded data removed]",
      "text/plain": [
       "<Figure size 600x500 with 2 Axes>"
      ]
     },
     "metadata": {},
     "output_type": "display_data"
    }
   ],
   "source": [
    "plt.figure(figsize=(6,5))\n",
    "sns.heatmap(matrizCorrelacao, annot=True,cmap=\"coolwarm\", fmt=\".2f\", linewidths=0.5) #Cores e escala\n",
    "plt.title(\"Matriz de correlação\") #Título\n",
    "plt.show() #Print para ver o gráfico"
   ]
  },
  {
   "cell_type": "code",
   "execution_count": 17,
   "id": "17606fce",
   "metadata": {},
   "outputs": [
    {
     "ename": "NameError",
     "evalue": "name 'scouts_2015' is not defined",
     "output_type": "error",
     "traceback": [
      "\u001b[31m---------------------------------------------------------------------------\u001b[39m",
      "\u001b[31mNameError\u001b[39m                                 Traceback (most recent call last)",
      "\u001b[36mCell\u001b[39m\u001b[36m \u001b[39m\u001b[32mIn[17]\u001b[39m\u001b[32m, line 1\u001b[39m\n\u001b[32m----> \u001b[39m\u001b[32m1\u001b[39m base = scouts_2015.csv\n\u001b[32m      2\u001b[39m \u001b[38;5;28mprint\u001b[39m(\u001b[33m\"\u001b[39m\u001b[33mDimensão da base\u001b[39m\u001b[33m\"\u001b[39m, df.shape)\n",
      "\u001b[31mNameError\u001b[39m: name 'scouts_2015' is not defined"
     ]
    }
   ],
   "source": [
    "base = scouts_2015.csv\n",
    "print(\"Dimensão da base\", df.shape)\n"
   ]
  },
  {
   "cell_type": "markdown",
   "id": "8a61ea10",
   "metadata": {},
   "source": [
    "Quando fizer um gráfico o tempo sempre é o eixo X e qualquer variável é o eixo Y (valor, quantidade etc)"
   ]
  },
  {
   "cell_type": "markdown",
   "id": "d21faa17",
   "metadata": {},
   "source": [
    "Regressão linear (reta média) "
   ]
  },
  {
   "cell_type": "markdown",
   "id": "9f9092bd",
   "metadata": {},
   "source": [
    "y = ax + b é o fator de você descobrir qual é a média entre vários valores"
   ]
  },
  {
   "cell_type": "markdown",
   "id": "6398a71b",
   "metadata": {},
   "source": [
    "- y = ax + b\n",
    "- y =  a . out + b\n",
    "- y = R$"
   ]
  },
  {
   "cell_type": "markdown",
   "id": "b02bf4c3",
   "metadata": {},
   "source": [
    "A diferença entre os dois pontos da regressão linear é o cenário positivo e o cenário negativo"
   ]
  },
  {
   "cell_type": "markdown",
   "id": "d5c5c2bc",
   "metadata": {},
   "source": [
    "Correlação de Pierson (R) - Mostra a correlação linear entre os valores do X e do Y. A correlação mostra o quão é reta a sua reta média\n",
    "\n",
    "O R² é sempre os pontos acima da reta. Por exemplo, se você tem 95% de R², você terá 5% de R, porque o R² é sempre o oposto do R. \n",
    "\n",
    "O valor aceitado SEMPRE É 5%, é o erro aceitado dentro da sua pesquisa.\n",
    "\n",
    "No R² a sua escala é de 0 a 1\n",
    "No R a sua escala é de -1 a 1\n",
    "\n",
    "De acordo com o R² você irá colocar escalas que podem ser:\n",
    "\n",
    "De 0 a 0.25 a escala é muito fraca\n",
    "De 0.25 a 0.50 a escala é fraca\n",
    "De 0.50 a 0.75 a escala é forte\n",
    "De 0.75 a 1 a escala é muito forte\n",
    "\n",
    "De acordo com o R você irá colocar escalas que podem ser:\n",
    "\n",
    "De -1 a -0.50 a escala é muito fraca\n",
    "De -0.50 a 0 a escala é fraca\n",
    "De 0 a 0.50 a escala é forte\n",
    "De 0.50 a 1 a escala é muito forte"
   ]
  },
  {
   "cell_type": "markdown",
   "id": "a9d3abaf",
   "metadata": {},
   "source": []
  }
 ],
 "metadata": {
  "kernelspec": {
   "display_name": "anaconda-toolbox",
   "language": "python",
   "name": "python3"
  },
  "language_info": {
   "codemirror_mode": {
    "name": "ipython",
    "version": 3
   },
   "file_extension": ".py",
   "mimetype": "text/x-python",
   "name": "python",
   "nbconvert_exporter": "python",
   "pygments_lexer": "ipython3",
   "version": "3.13.5"
  }
 },
 "nbformat": 4,
 "nbformat_minor": 5
}
