{
 "cells": [
  {
   "cell_type": "code",
   "execution_count": null,
   "id": "21dbf9df",
   "metadata": {},
   "outputs": [],
   "source": [
    "!pip install seaborn"
   ]
  },
  {
   "cell_type": "code",
   "execution_count": 69,
   "id": "a84acbc3",
   "metadata": {},
   "outputs": [],
   "source": [
    "import pandas as pd\n",
    "import numpy as np\n",
    "#Bibliotecas para gráficos\n",
    "import seaborn as sns\n",
    "import matplotlib.pyplot as plt\n",
    "from scipy import stats as st"
   ]
  },
  {
   "cell_type": "code",
   "execution_count": 3,
   "id": "84b3b0f6",
   "metadata": {},
   "outputs": [
    {
     "name": "stdout",
     "output_type": "stream",
     "text": [
      "Dimensão da base:  (29720, 34)\n"
     ]
    },
    {
     "data": {
      "text/html": [
       "<div>\n",
       "<style scoped>\n",
       "    .dataframe tbody tr th:only-of-type {\n",
       "        vertical-align: middle;\n",
       "    }\n",
       "\n",
       "    .dataframe tbody tr th {\n",
       "        vertical-align: top;\n",
       "    }\n",
       "\n",
       "    .dataframe thead th {\n",
       "        text-align: right;\n",
       "    }\n",
       "</style>\n",
       "<table border=\"1\" class=\"dataframe\">\n",
       "  <thead>\n",
       "    <tr style=\"text-align: right;\">\n",
       "      <th></th>\n",
       "      <th>atleta_id</th>\n",
       "      <th>apelido</th>\n",
       "      <th>rodada_id</th>\n",
       "      <th>ano</th>\n",
       "      <th>clube_id</th>\n",
       "      <th>clube</th>\n",
       "      <th>posicao_id</th>\n",
       "      <th>posicao</th>\n",
       "      <th>jogos_num</th>\n",
       "      <th>pontos_num</th>\n",
       "      <th>...</th>\n",
       "      <th>FC</th>\n",
       "      <th>GC</th>\n",
       "      <th>CA</th>\n",
       "      <th>CV</th>\n",
       "      <th>SG</th>\n",
       "      <th>DD</th>\n",
       "      <th>DP</th>\n",
       "      <th>GS</th>\n",
       "      <th>status_id</th>\n",
       "      <th>status</th>\n",
       "    </tr>\n",
       "  </thead>\n",
       "  <tbody>\n",
       "    <tr>\n",
       "      <th>0</th>\n",
       "      <td>87552</td>\n",
       "      <td>Vitor Bueno</td>\n",
       "      <td>27</td>\n",
       "      <td>2015</td>\n",
       "      <td>277</td>\n",
       "      <td>Santos</td>\n",
       "      <td>4</td>\n",
       "      <td>mei</td>\n",
       "      <td>1</td>\n",
       "      <td>0.0</td>\n",
       "      <td>...</td>\n",
       "      <td>0</td>\n",
       "      <td>0</td>\n",
       "      <td>0</td>\n",
       "      <td>0</td>\n",
       "      <td>0</td>\n",
       "      <td>0</td>\n",
       "      <td>0</td>\n",
       "      <td>0</td>\n",
       "      <td>0</td>\n",
       "      <td>NaN</td>\n",
       "    </tr>\n",
       "    <tr>\n",
       "      <th>1</th>\n",
       "      <td>87552</td>\n",
       "      <td>Vitor Bueno</td>\n",
       "      <td>28</td>\n",
       "      <td>2015</td>\n",
       "      <td>277</td>\n",
       "      <td>Santos</td>\n",
       "      <td>4</td>\n",
       "      <td>mei</td>\n",
       "      <td>1</td>\n",
       "      <td>0.0</td>\n",
       "      <td>...</td>\n",
       "      <td>0</td>\n",
       "      <td>0</td>\n",
       "      <td>0</td>\n",
       "      <td>0</td>\n",
       "      <td>0</td>\n",
       "      <td>0</td>\n",
       "      <td>0</td>\n",
       "      <td>0</td>\n",
       "      <td>0</td>\n",
       "      <td>NaN</td>\n",
       "    </tr>\n",
       "    <tr>\n",
       "      <th>2</th>\n",
       "      <td>87552</td>\n",
       "      <td>Vitor Bueno</td>\n",
       "      <td>29</td>\n",
       "      <td>2015</td>\n",
       "      <td>277</td>\n",
       "      <td>Santos</td>\n",
       "      <td>4</td>\n",
       "      <td>mei</td>\n",
       "      <td>1</td>\n",
       "      <td>0.0</td>\n",
       "      <td>...</td>\n",
       "      <td>0</td>\n",
       "      <td>0</td>\n",
       "      <td>0</td>\n",
       "      <td>0</td>\n",
       "      <td>0</td>\n",
       "      <td>0</td>\n",
       "      <td>0</td>\n",
       "      <td>0</td>\n",
       "      <td>0</td>\n",
       "      <td>NaN</td>\n",
       "    </tr>\n",
       "    <tr>\n",
       "      <th>3</th>\n",
       "      <td>87552</td>\n",
       "      <td>Vitor Bueno</td>\n",
       "      <td>30</td>\n",
       "      <td>2015</td>\n",
       "      <td>277</td>\n",
       "      <td>Santos</td>\n",
       "      <td>4</td>\n",
       "      <td>mei</td>\n",
       "      <td>1</td>\n",
       "      <td>0.0</td>\n",
       "      <td>...</td>\n",
       "      <td>0</td>\n",
       "      <td>0</td>\n",
       "      <td>0</td>\n",
       "      <td>0</td>\n",
       "      <td>0</td>\n",
       "      <td>0</td>\n",
       "      <td>0</td>\n",
       "      <td>0</td>\n",
       "      <td>0</td>\n",
       "      <td>NaN</td>\n",
       "    </tr>\n",
       "    <tr>\n",
       "      <th>4</th>\n",
       "      <td>87552</td>\n",
       "      <td>Vitor Bueno</td>\n",
       "      <td>31</td>\n",
       "      <td>2015</td>\n",
       "      <td>277</td>\n",
       "      <td>Santos</td>\n",
       "      <td>4</td>\n",
       "      <td>mei</td>\n",
       "      <td>2</td>\n",
       "      <td>-0.3</td>\n",
       "      <td>...</td>\n",
       "      <td>0</td>\n",
       "      <td>0</td>\n",
       "      <td>0</td>\n",
       "      <td>0</td>\n",
       "      <td>0</td>\n",
       "      <td>0</td>\n",
       "      <td>0</td>\n",
       "      <td>0</td>\n",
       "      <td>0</td>\n",
       "      <td>NaN</td>\n",
       "    </tr>\n",
       "  </tbody>\n",
       "</table>\n",
       "<p>5 rows × 34 columns</p>\n",
       "</div>"
      ],
      "text/plain": [
       "   atleta_id      apelido  rodada_id   ano  clube_id   clube  posicao_id  \\\n",
       "0      87552  Vitor Bueno         27  2015       277  Santos           4   \n",
       "1      87552  Vitor Bueno         28  2015       277  Santos           4   \n",
       "2      87552  Vitor Bueno         29  2015       277  Santos           4   \n",
       "3      87552  Vitor Bueno         30  2015       277  Santos           4   \n",
       "4      87552  Vitor Bueno         31  2015       277  Santos           4   \n",
       "\n",
       "  posicao  jogos_num  pontos_num  ...  FC  GC  CA  CV  SG  DD  DP  GS  \\\n",
       "0     mei          1         0.0  ...   0   0   0   0   0   0   0   0   \n",
       "1     mei          1         0.0  ...   0   0   0   0   0   0   0   0   \n",
       "2     mei          1         0.0  ...   0   0   0   0   0   0   0   0   \n",
       "3     mei          1         0.0  ...   0   0   0   0   0   0   0   0   \n",
       "4     mei          2        -0.3  ...   0   0   0   0   0   0   0   0   \n",
       "\n",
       "   status_id  status  \n",
       "0          0     NaN  \n",
       "1          0     NaN  \n",
       "2          0     NaN  \n",
       "3          0     NaN  \n",
       "4          0     NaN  \n",
       "\n",
       "[5 rows x 34 columns]"
      ]
     },
     "execution_count": 3,
     "metadata": {},
     "output_type": "execute_result"
    }
   ],
   "source": [
    "df = pd.read_csv(\"scouts_2015.csv\")\n",
    "\n",
    "print(\"Dimensão da base: \", df.shape)\n",
    "df.head()"
   ]
  },
  {
   "cell_type": "markdown",
   "id": "51f12430",
   "metadata": {},
   "source": [
    "Como está estruturado o dataset?"
   ]
  },
  {
   "cell_type": "code",
   "execution_count": 5,
   "id": "2764dbc7",
   "metadata": {},
   "outputs": [
    {
     "name": "stdout",
     "output_type": "stream",
     "text": [
      "Dimensão da base:  (29720, 34)\n"
     ]
    },
    {
     "data": {
      "text/html": [
       "<div>\n",
       "<style scoped>\n",
       "    .dataframe tbody tr th:only-of-type {\n",
       "        vertical-align: middle;\n",
       "    }\n",
       "\n",
       "    .dataframe tbody tr th {\n",
       "        vertical-align: top;\n",
       "    }\n",
       "\n",
       "    .dataframe thead th {\n",
       "        text-align: right;\n",
       "    }\n",
       "</style>\n",
       "<table border=\"1\" class=\"dataframe\">\n",
       "  <thead>\n",
       "    <tr style=\"text-align: right;\">\n",
       "      <th></th>\n",
       "      <th>atleta_id</th>\n",
       "      <th>apelido</th>\n",
       "      <th>rodada_id</th>\n",
       "      <th>ano</th>\n",
       "      <th>clube_id</th>\n",
       "      <th>clube</th>\n",
       "      <th>posicao_id</th>\n",
       "      <th>posicao</th>\n",
       "      <th>jogos_num</th>\n",
       "      <th>pontos_num</th>\n",
       "      <th>...</th>\n",
       "      <th>FC</th>\n",
       "      <th>GC</th>\n",
       "      <th>CA</th>\n",
       "      <th>CV</th>\n",
       "      <th>SG</th>\n",
       "      <th>DD</th>\n",
       "      <th>DP</th>\n",
       "      <th>GS</th>\n",
       "      <th>status_id</th>\n",
       "      <th>status</th>\n",
       "    </tr>\n",
       "  </thead>\n",
       "  <tbody>\n",
       "    <tr>\n",
       "      <th>0</th>\n",
       "      <td>87552</td>\n",
       "      <td>Vitor Bueno</td>\n",
       "      <td>27</td>\n",
       "      <td>2015</td>\n",
       "      <td>277</td>\n",
       "      <td>Santos</td>\n",
       "      <td>4</td>\n",
       "      <td>mei</td>\n",
       "      <td>1</td>\n",
       "      <td>0.0</td>\n",
       "      <td>...</td>\n",
       "      <td>0</td>\n",
       "      <td>0</td>\n",
       "      <td>0</td>\n",
       "      <td>0</td>\n",
       "      <td>0</td>\n",
       "      <td>0</td>\n",
       "      <td>0</td>\n",
       "      <td>0</td>\n",
       "      <td>0</td>\n",
       "      <td>NaN</td>\n",
       "    </tr>\n",
       "    <tr>\n",
       "      <th>1</th>\n",
       "      <td>87552</td>\n",
       "      <td>Vitor Bueno</td>\n",
       "      <td>28</td>\n",
       "      <td>2015</td>\n",
       "      <td>277</td>\n",
       "      <td>Santos</td>\n",
       "      <td>4</td>\n",
       "      <td>mei</td>\n",
       "      <td>1</td>\n",
       "      <td>0.0</td>\n",
       "      <td>...</td>\n",
       "      <td>0</td>\n",
       "      <td>0</td>\n",
       "      <td>0</td>\n",
       "      <td>0</td>\n",
       "      <td>0</td>\n",
       "      <td>0</td>\n",
       "      <td>0</td>\n",
       "      <td>0</td>\n",
       "      <td>0</td>\n",
       "      <td>NaN</td>\n",
       "    </tr>\n",
       "    <tr>\n",
       "      <th>2</th>\n",
       "      <td>87552</td>\n",
       "      <td>Vitor Bueno</td>\n",
       "      <td>29</td>\n",
       "      <td>2015</td>\n",
       "      <td>277</td>\n",
       "      <td>Santos</td>\n",
       "      <td>4</td>\n",
       "      <td>mei</td>\n",
       "      <td>1</td>\n",
       "      <td>0.0</td>\n",
       "      <td>...</td>\n",
       "      <td>0</td>\n",
       "      <td>0</td>\n",
       "      <td>0</td>\n",
       "      <td>0</td>\n",
       "      <td>0</td>\n",
       "      <td>0</td>\n",
       "      <td>0</td>\n",
       "      <td>0</td>\n",
       "      <td>0</td>\n",
       "      <td>NaN</td>\n",
       "    </tr>\n",
       "    <tr>\n",
       "      <th>3</th>\n",
       "      <td>87552</td>\n",
       "      <td>Vitor Bueno</td>\n",
       "      <td>30</td>\n",
       "      <td>2015</td>\n",
       "      <td>277</td>\n",
       "      <td>Santos</td>\n",
       "      <td>4</td>\n",
       "      <td>mei</td>\n",
       "      <td>1</td>\n",
       "      <td>0.0</td>\n",
       "      <td>...</td>\n",
       "      <td>0</td>\n",
       "      <td>0</td>\n",
       "      <td>0</td>\n",
       "      <td>0</td>\n",
       "      <td>0</td>\n",
       "      <td>0</td>\n",
       "      <td>0</td>\n",
       "      <td>0</td>\n",
       "      <td>0</td>\n",
       "      <td>NaN</td>\n",
       "    </tr>\n",
       "    <tr>\n",
       "      <th>4</th>\n",
       "      <td>87552</td>\n",
       "      <td>Vitor Bueno</td>\n",
       "      <td>31</td>\n",
       "      <td>2015</td>\n",
       "      <td>277</td>\n",
       "      <td>Santos</td>\n",
       "      <td>4</td>\n",
       "      <td>mei</td>\n",
       "      <td>2</td>\n",
       "      <td>-0.3</td>\n",
       "      <td>...</td>\n",
       "      <td>0</td>\n",
       "      <td>0</td>\n",
       "      <td>0</td>\n",
       "      <td>0</td>\n",
       "      <td>0</td>\n",
       "      <td>0</td>\n",
       "      <td>0</td>\n",
       "      <td>0</td>\n",
       "      <td>0</td>\n",
       "      <td>NaN</td>\n",
       "    </tr>\n",
       "  </tbody>\n",
       "</table>\n",
       "<p>5 rows × 34 columns</p>\n",
       "</div>"
      ],
      "text/plain": [
       "   atleta_id      apelido  rodada_id   ano  clube_id   clube  posicao_id  \\\n",
       "0      87552  Vitor Bueno         27  2015       277  Santos           4   \n",
       "1      87552  Vitor Bueno         28  2015       277  Santos           4   \n",
       "2      87552  Vitor Bueno         29  2015       277  Santos           4   \n",
       "3      87552  Vitor Bueno         30  2015       277  Santos           4   \n",
       "4      87552  Vitor Bueno         31  2015       277  Santos           4   \n",
       "\n",
       "  posicao  jogos_num  pontos_num  ...  FC  GC  CA  CV  SG  DD  DP  GS  \\\n",
       "0     mei          1         0.0  ...   0   0   0   0   0   0   0   0   \n",
       "1     mei          1         0.0  ...   0   0   0   0   0   0   0   0   \n",
       "2     mei          1         0.0  ...   0   0   0   0   0   0   0   0   \n",
       "3     mei          1         0.0  ...   0   0   0   0   0   0   0   0   \n",
       "4     mei          2        -0.3  ...   0   0   0   0   0   0   0   0   \n",
       "\n",
       "   status_id  status  \n",
       "0          0     NaN  \n",
       "1          0     NaN  \n",
       "2          0     NaN  \n",
       "3          0     NaN  \n",
       "4          0     NaN  \n",
       "\n",
       "[5 rows x 34 columns]"
      ]
     },
     "execution_count": 5,
     "metadata": {},
     "output_type": "execute_result"
    }
   ],
   "source": [
    "print(\"Dimensão da base: \", df.shape)\n",
    "df.head()"
   ]
  },
  {
   "cell_type": "markdown",
   "id": "89fa0f0a",
   "metadata": {},
   "source": [
    "Quantos jogadores e rodadas temos registrados?"
   ]
  },
  {
   "cell_type": "code",
   "execution_count": 14,
   "id": "965cb903",
   "metadata": {},
   "outputs": [
    {
     "data": {
      "text/plain": [
       "872"
      ]
     },
     "execution_count": 14,
     "metadata": {},
     "output_type": "execute_result"
    }
   ],
   "source": [
    "len(df['apelido'].unique())"
   ]
  },
  {
   "cell_type": "code",
   "execution_count": 15,
   "id": "0b86fcee",
   "metadata": {},
   "outputs": [
    {
     "data": {
      "text/plain": [
       "36"
      ]
     },
     "execution_count": 15,
     "metadata": {},
     "output_type": "execute_result"
    }
   ],
   "source": [
    "len(df['rodada_id'].unique())"
   ]
  },
  {
   "cell_type": "markdown",
   "id": "c586afe7",
   "metadata": {},
   "source": [
    "Quais variáveis são categóricas e quais são numéricas?\n"
   ]
  },
  {
   "cell_type": "code",
   "execution_count": 22,
   "id": "4ef3344a",
   "metadata": {},
   "outputs": [
    {
     "name": "stdout",
     "output_type": "stream",
     "text": [
      "<class 'pandas.core.frame.DataFrame'>\n",
      "RangeIndex: 29720 entries, 0 to 29719\n",
      "Data columns (total 34 columns):\n",
      " #   Column              Non-Null Count  Dtype  \n",
      "---  ------              --------------  -----  \n",
      " 0   atleta_id           29720 non-null  int64  \n",
      " 1   apelido             29720 non-null  object \n",
      " 2   rodada_id           29720 non-null  int64  \n",
      " 3   ano                 29720 non-null  int64  \n",
      " 4   clube_id            29720 non-null  int64  \n",
      " 5   clube               29720 non-null  object \n",
      " 6   posicao_id          29720 non-null  int64  \n",
      " 7   posicao             29720 non-null  object \n",
      " 8   jogos_num           29720 non-null  int64  \n",
      " 9   pontos_num          29720 non-null  float64\n",
      " 10  media_num           29720 non-null  float64\n",
      " 11  preco_num_anterior  29720 non-null  float64\n",
      " 12  preco_num           29720 non-null  float64\n",
      " 13  variacao_num        29720 non-null  float64\n",
      " 14  FS                  29720 non-null  int64  \n",
      " 15  PE                  29720 non-null  int64  \n",
      " 16  A                   29720 non-null  int64  \n",
      " 17  FT                  29720 non-null  int64  \n",
      " 18  FD                  29720 non-null  int64  \n",
      " 19  FF                  29720 non-null  int64  \n",
      " 20  G                   29720 non-null  int64  \n",
      " 21  I                   29720 non-null  int64  \n",
      " 22  PP                  29720 non-null  int64  \n",
      " 23  RB                  29720 non-null  int64  \n",
      " 24  FC                  29720 non-null  int64  \n",
      " 25  GC                  29720 non-null  int64  \n",
      " 26  CA                  29720 non-null  int64  \n",
      " 27  CV                  29720 non-null  int64  \n",
      " 28  SG                  29720 non-null  int64  \n",
      " 29  DD                  29720 non-null  int64  \n",
      " 30  DP                  29720 non-null  int64  \n",
      " 31  GS                  29720 non-null  int64  \n",
      " 32  status_id           29720 non-null  int64  \n",
      " 33  status              0 non-null      float64\n",
      "dtypes: float64(6), int64(25), object(3)\n",
      "memory usage: 7.7+ MB\n"
     ]
    }
   ],
   "source": [
    "df.info()\n"
   ]
  },
  {
   "cell_type": "markdown",
   "id": "57c8c691",
   "metadata": {},
   "source": [
    "Qual é a pontuação média dos jogadores em uma rodada?"
   ]
  },
  {
   "cell_type": "code",
   "execution_count": 31,
   "id": "3623b418",
   "metadata": {},
   "outputs": [
    {
     "data": {
      "text/plain": [
       "np.float64(0.9490753701211304)"
      ]
     },
     "execution_count": 31,
     "metadata": {},
     "output_type": "execute_result"
    }
   ],
   "source": [
    "df.describe().pontos_num['mean']"
   ]
  },
  {
   "cell_type": "code",
   "execution_count": null,
   "id": "0609dfdd",
   "metadata": {},
   "outputs": [
    {
     "data": {
      "text/plain": [
       "np.float64(0.0)"
      ]
     },
     "execution_count": 48,
     "metadata": {},
     "output_type": "execute_result"
    }
   ],
   "source": [
    "df[df['atleta_id'] == 87552]['pontos_num']"
   ]
  },
  {
   "cell_type": "markdown",
   "id": "9f59c10b",
   "metadata": {},
   "source": [
    "Qual posição tem a maior mediana de pontos?"
   ]
  },
  {
   "cell_type": "code",
   "execution_count": null,
   "id": "c9d37fca",
   "metadata": {},
   "outputs": [
    {
     "name": "stdout",
     "output_type": "stream",
     "text": [
      "mei 0.0\n",
      "lat 0.0\n",
      "ata 0.0\n",
      "gol 0.0\n",
      "zag 0.0\n",
      "tec 2.88\n"
     ]
    }
   ],
   "source": [
    "array = df['posicao'].unique()\n",
    "\n",
    "for i in array:\n",
    "    mediana = np.median(df[df['posicao'] == i]['pontos_num'])\n",
    "    print(i, mediana)\n"
   ]
  },
  {
   "cell_type": "markdown",
   "id": "d560b173",
   "metadata": {},
   "source": [
    "Existe um jogador que aparece como “moda” em gols ou assistências (ou seja, que repete muito em valores)?"
   ]
  },
  {
   "cell_type": "code",
   "execution_count": 95,
   "id": "931b7748",
   "metadata": {},
   "outputs": [
    {
     "name": "stdout",
     "output_type": "stream",
     "text": [
      "Dida 36443\n"
     ]
    }
   ],
   "source": [
    "jogadores = df['atleta_id'].unique()\n",
    "\n",
    "\n",
    "moda = st.mode(jogadores)\n",
    "nome = df[df['atleta_id'] == moda[0]]['apelido'].tolist()[0]\n",
    "print(nome, moda[0])\n"
   ]
  },
  {
   "cell_type": "markdown",
   "id": "9ec4d4d0",
   "metadata": {},
   "source": [
    "A pontuação dos atacantes é mais dispersa que a dos zagueiros?"
   ]
  },
  {
   "cell_type": "code",
   "execution_count": 117,
   "id": "35d146b8",
   "metadata": {},
   "outputs": [
    {
     "name": "stdout",
     "output_type": "stream",
     "text": [
      "Zagueiro: 2.64, Atacante: 3.12\n"
     ]
    }
   ],
   "source": [
    "zag = df[df['posicao'] == 'zag']['pontos_num']\n",
    "dpZag = zag.std()\n",
    "ata = df[df['posicao'] == 'ata']['pontos_num']\n",
    "dpAta = ata.std()\n",
    "print(f\"Zagueiro: {dpZag:.2f}, Atacante: {dpAta:.2f}\")"
   ]
  },
  {
   "cell_type": "markdown",
   "id": "1ef5d719",
   "metadata": {},
   "source": [
    "Qual posição tem maior consistência de desempenho (menor desvio-padrão de pontos)?"
   ]
  },
  {
   "cell_type": "code",
   "execution_count": 119,
   "id": "cc9c908a",
   "metadata": {},
   "outputs": [
    {
     "name": "stdout",
     "output_type": "stream",
     "text": [
      "mei 2.387969932698349\n",
      "lat 2.7713292819220428\n",
      "ata 3.1202587030693127\n",
      "gol 3.0778055814883465\n",
      "zag 2.6406523797022765\n",
      "tec 2.1979471287030834\n"
     ]
    }
   ],
   "source": [
    "for i in array:\n",
    "    std = np.std(df[df['posicao'] == i]['pontos_num'],ddof=1)\n",
    "    print(i, std)\n"
   ]
  },
  {
   "cell_type": "markdown",
   "id": "84cac6e0",
   "metadata": {},
   "source": [
    "Como é a variabilidade no preço dos jogadores por posição?"
   ]
  },
  {
   "cell_type": "code",
   "execution_count": 121,
   "id": "4847e44d",
   "metadata": {},
   "outputs": [
    {
     "name": "stdout",
     "output_type": "stream",
     "text": [
      "mei 21.07978403474384\n",
      "lat 19.55811410639778\n",
      "ata 30.15568383511807\n",
      "gol 36.90723415733069\n",
      "zag 19.22122439122584\n",
      "tec 8.184456682649547\n"
     ]
    }
   ],
   "source": [
    "for i in array:\n",
    "    variabilidade = np.var(df[df['posicao'] == i]['preco_num'])\n",
    "    print(i, variabilidade)"
   ]
  },
  {
   "cell_type": "markdown",
   "id": "91f5f34a",
   "metadata": {},
   "source": [
    "Como se distribuem os gols por jogador? A distribuição é simétrica ou enviesada?"
   ]
  },
  {
   "cell_type": "code",
   "execution_count": null,
   "id": "75977896",
   "metadata": {},
   "outputs": [],
   "source": [
    "df[df['apelido'] == i[]]"
   ]
  }
 ],
 "metadata": {
  "kernelspec": {
   "display_name": "Python 3",
   "language": "python",
   "name": "python3"
  },
  "language_info": {
   "codemirror_mode": {
    "name": "ipython",
    "version": 3
   },
   "file_extension": ".py",
   "mimetype": "text/x-python",
   "name": "python",
   "nbconvert_exporter": "python",
   "pygments_lexer": "ipython3",
   "version": "3.13.3"
  }
 },
 "nbformat": 4,
 "nbformat_minor": 5
}
